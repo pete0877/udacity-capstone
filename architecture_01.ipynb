{
 "cells": [
  {
   "cell_type": "code",
   "execution_count": 1,
   "metadata": {},
   "outputs": [
    {
     "name": "stderr",
     "output_type": "stream",
     "text": [
      "Using TensorFlow backend.\n",
      "/Library/Frameworks/Python.framework/Versions/3.6/lib/python3.6/importlib/_bootstrap.py:219: RuntimeWarning: compiletime version 3.5 of module 'tensorflow.python.framework.fast_tensor_util' does not match runtime version 3.6\n",
      "  return f(*args, **kwds)\n"
     ]
    }
   ],
   "source": [
    "import datetime\n",
    "import random\n",
    "\n",
    "import numpy as np\n",
    "from keras.layers import Activation\n",
    "from keras.layers import Conv2D, MaxPooling2D, GlobalAveragePooling2D\n",
    "from keras.layers import Dense\n",
    "from keras.layers.normalization import BatchNormalization\n",
    "from keras.models import Sequential, Model\n",
    "from keras.applications.resnet50 import ResNet50\n",
    "from keras.applications import VGG16\n",
    "from keras.applications.inception_v3 import InceptionV3\n",
    "from tqdm import tqdm\n",
    "\n",
    "from common import *"
   ]
  },
  {
   "cell_type": "code",
   "execution_count": 2,
   "metadata": {},
   "outputs": [
    {
     "name": "stdout",
     "output_type": "stream",
     "text": [
      ".. setting base configuration & params ..\n"
     ]
    }
   ],
   "source": [
    "print(\".. setting base configuration & params ..\")\n",
    "\n",
    "initialize()\n",
    "\n",
    "best_model_filepath = './saved-models/achitecture-01.hdf5'\n",
    "training_epochs = 50\n",
    "batch_size = 20\n",
    "images_size = 270\n"
   ]
  },
  {
   "cell_type": "code",
   "execution_count": 3,
   "metadata": {},
   "outputs": [
    {
     "name": "stderr",
     "output_type": "stream",
     "text": [
      "  0%|          | 5/1408 [00:00<00:28, 49.13it/s]"
     ]
    },
    {
     "name": "stdout",
     "output_type": "stream",
     "text": [
      ".. loading & splitting data ..\n"
     ]
    },
    {
     "name": "stderr",
     "output_type": "stream",
     "text": [
      "100%|██████████| 1408/1408 [00:13<00:00, 105.09it/s]\n",
      "100%|██████████| 440/440 [00:04<00:00, 99.50it/s] \n",
      "100%|██████████| 352/352 [00:03<00:00, 95.99it/s] \n"
     ]
    }
   ],
   "source": [
    "(train_tensors, X_train, y_train,\n",
    "test_tensors, X_test, y_test, \n",
    "valid_tensors, X_validate, y_validate, \n",
    "duration_loading) = load_and_split_data(images_size=images_size)"
   ]
  },
  {
   "cell_type": "code",
   "execution_count": 4,
   "metadata": {},
   "outputs": [
    {
     "name": "stdout",
     "output_type": "stream",
     "text": [
      ".. constructing the model ..\n",
      "_________________________________________________________________\n",
      "Layer (type)                 Output Shape              Param #   \n",
      "=================================================================\n",
      "conv2d_1 (Conv2D)            (None, 270, 270, 16)      208       \n",
      "_________________________________________________________________\n",
      "batch_normalization_1 (Batch (None, 270, 270, 16)      64        \n",
      "_________________________________________________________________\n",
      "activation_1 (Activation)    (None, 270, 270, 16)      0         \n",
      "_________________________________________________________________\n",
      "max_pooling2d_1 (MaxPooling2 (None, 135, 135, 16)      0         \n",
      "_________________________________________________________________\n",
      "conv2d_2 (Conv2D)            (None, 135, 135, 32)      2080      \n",
      "_________________________________________________________________\n",
      "batch_normalization_2 (Batch (None, 135, 135, 32)      128       \n",
      "_________________________________________________________________\n",
      "activation_2 (Activation)    (None, 135, 135, 32)      0         \n",
      "_________________________________________________________________\n",
      "max_pooling2d_2 (MaxPooling2 (None, 67, 67, 32)        0         \n",
      "_________________________________________________________________\n",
      "conv2d_3 (Conv2D)            (None, 67, 67, 64)        8256      \n",
      "_________________________________________________________________\n",
      "batch_normalization_3 (Batch (None, 67, 67, 64)        256       \n",
      "_________________________________________________________________\n",
      "activation_3 (Activation)    (None, 67, 67, 64)        0         \n",
      "_________________________________________________________________\n",
      "max_pooling2d_3 (MaxPooling2 (None, 33, 33, 64)        0         \n",
      "_________________________________________________________________\n",
      "global_average_pooling2d_1 ( (None, 64)                0         \n",
      "_________________________________________________________________\n",
      "dense_1 (Dense)              (None, 2)                 130       \n",
      "=================================================================\n",
      "Total params: 11,122\n",
      "Trainable params: 10,898\n",
      "Non-trainable params: 224\n",
      "_________________________________________________________________\n"
     ]
    }
   ],
   "source": [
    "print(\".. constructing the model ..\")\n",
    "\n",
    "model = Sequential()\n",
    "\n",
    "model.add(Conv2D(filters=16, kernel_size=2, padding='same', input_shape=(images_size, images_size, 3), \n",
    "                 data_format=\"channels_last\"))\n",
    "model.add(BatchNormalization())\n",
    "model.add(Activation('relu'))\n",
    "model.add(MaxPooling2D(pool_size=(2, 2)))\n",
    "\n",
    "model.add(Conv2D(filters=32, kernel_size=2, padding='same'))\n",
    "model.add(BatchNormalization())\n",
    "model.add(Activation('relu'))\n",
    "model.add(MaxPooling2D(pool_size=(2, 2)))\n",
    "\n",
    "model.add(Conv2D(filters=64, kernel_size=2, padding='same'))\n",
    "model.add(BatchNormalization())\n",
    "model.add(Activation('relu'))\n",
    "model.add(MaxPooling2D(pool_size=(2, 2)))\n",
    "\n",
    "model.add(GlobalAveragePooling2D())\n",
    "model.add(Dense(2, activation='softmax'))\n",
    "\n",
    "model.summary()\n",
    "\n",
    "model.compile(optimizer='rmsprop', loss='categorical_crossentropy', metrics=['accuracy'])\n"
   ]
  },
  {
   "cell_type": "code",
   "execution_count": 5,
   "metadata": {},
   "outputs": [
    {
     "name": "stdout",
     "output_type": "stream",
     "text": [
      ".. training the model ..\n",
      "Train on 1408 samples, validate on 352 samples\n",
      "Epoch 1/1\n",
      "1408/1408 [==============================] - 268s 190ms/step - loss: 0.4366 - acc: 0.7820 - val_loss: 0.3859 - val_acc: 0.8097\n",
      "\n",
      "Epoch 00001: val_loss improved from inf to 0.38588, saving model to ./saved-models/achitecture-01.hdf5\n"
     ]
    }
   ],
   "source": [
    "duration_training = train_single_model(model, \n",
    "                                       best_model_filepath, \n",
    "                                       train_tensors, y_train, \n",
    "                                       valid_tensors, y_validate, \n",
    "                                       training_epochs, \n",
    "                                       batch_size)\n"
   ]
  },
  {
   "cell_type": "code",
   "execution_count": 6,
   "metadata": {},
   "outputs": [
    {
     "name": "stdout",
     "output_type": "stream",
     "text": [
      ".. loading best weights ..\n"
     ]
    }
   ],
   "source": [
    "print(\".. loading best weights ..\")\n",
    "\n",
    "model.load_weights(best_model_filepath)"
   ]
  },
  {
   "cell_type": "code",
   "execution_count": 7,
   "metadata": {},
   "outputs": [
    {
     "name": "stderr",
     "output_type": "stream",
     "text": [
      "\r",
      "  0%|          | 0/440 [00:00<?, ?it/s]"
     ]
    },
    {
     "name": "stdout",
     "output_type": "stream",
     "text": [
      ".. testing the model on Test data ..\n"
     ]
    },
    {
     "name": "stderr",
     "output_type": "stream",
     "text": [
      "100%|██████████| 440/440 [00:34<00:00, 12.68it/s]\n"
     ]
    }
   ],
   "source": [
    "print(\".. testing the model on Test data ..\")\n",
    "section_start_time = datetime.datetime.utcnow()\n",
    "\n",
    "test_data_predictions = [np.argmax(model.predict(np.expand_dims(tensor, axis=0))) for tensor in tqdm(test_tensors)]\n",
    "\n",
    "test_data_predictions_time = (datetime.datetime.utcnow() - section_start_time).total_seconds()"
   ]
  },
  {
   "cell_type": "code",
   "execution_count": 8,
   "metadata": {},
   "outputs": [
    {
     "name": "stderr",
     "output_type": "stream",
     "text": [
      "  0%|          | 1/1408 [00:00<02:47,  8.42it/s]"
     ]
    },
    {
     "name": "stdout",
     "output_type": "stream",
     "text": [
      ".. testing the model on Training data ..\n"
     ]
    },
    {
     "name": "stderr",
     "output_type": "stream",
     "text": [
      "100%|██████████| 1408/1408 [01:45<00:00, 13.32it/s]\n"
     ]
    }
   ],
   "source": [
    "print(\".. testing the model on Training data ..\")\n",
    "section_start_time = datetime.datetime.utcnow()\n",
    "\n",
    "train_data_predictions = [np.argmax(model.predict(np.expand_dims(tensor, axis=0))) for tensor in tqdm(train_tensors)]\n",
    "\n",
    "train_data_predictions_time = (datetime.datetime.utcnow() - section_start_time).total_seconds()"
   ]
  },
  {
   "cell_type": "code",
   "execution_count": 9,
   "metadata": {},
   "outputs": [
    {
     "name": "stderr",
     "output_type": "stream",
     "text": [
      "  0%|          | 1/352 [00:00<00:41,  8.56it/s]"
     ]
    },
    {
     "name": "stdout",
     "output_type": "stream",
     "text": [
      ".. testing the model on Validation data ..\n"
     ]
    },
    {
     "name": "stderr",
     "output_type": "stream",
     "text": [
      "100%|██████████| 352/352 [00:26<00:00, 13.49it/s]\n"
     ]
    }
   ],
   "source": [
    "print(\".. testing the model on Validation data ..\")\n",
    "section_start_time = datetime.datetime.utcnow()\n",
    "\n",
    "validation_data_predictions = [np.argmax(model.predict(np.expand_dims(tensor, axis=0))) for tensor in tqdm(valid_tensors)]\n",
    "\n",
    "validation_data_predictions_time = (datetime.datetime.utcnow() - section_start_time).total_seconds()"
   ]
  },
  {
   "cell_type": "code",
   "execution_count": 10,
   "metadata": {},
   "outputs": [
    {
     "name": "stdout",
     "output_type": "stream",
     "text": [
      "________________________________________________________\n",
      "TIMING SUMMARY:\n",
      "\n",
      "loading duration: 25.2 seconds\n",
      "training duration: 269.0 seconds\n",
      "________________________________________________________\n",
      "MODEL PERFORMANCE ON TEST DATA:\n",
      "\n",
      "predict duration: 34.7 seconds\n",
      "all:  440\n",
      "all_positives:  81\n",
      "all_negatives:  359\n",
      "true_positives:  8\n",
      "true_negatives:  356\n",
      "false_positives:  3\n",
      "false_negatives:  73\n",
      "RECALL: 0.10\n",
      "SPECIFICITY: 0.99\n",
      "ACCURACY: 0.83\n",
      "PRECISION: 0.73\n",
      "F1 SCORE: 0.17\n",
      "FP RATE / ERROR I: 0.01\n",
      "FN RATE / ERROR II: 0.90\n",
      "________________________________________________________\n",
      "MODEL PERFORMANCE ON TRAIN DATA:\n",
      "\n",
      "predict duration: 105.7 seconds\n",
      "all:  1408\n",
      "all_positives:  316\n",
      "all_negatives:  1092\n",
      "true_positives:  21\n",
      "true_negatives:  1082\n",
      "false_positives:  10\n",
      "false_negatives:  295\n",
      "RECALL: 0.07\n",
      "SPECIFICITY: 0.99\n",
      "ACCURACY: 0.78\n",
      "PRECISION: 0.68\n",
      "F1 SCORE: 0.12\n",
      "FP RATE / ERROR I: 0.01\n",
      "FN RATE / ERROR II: 0.93\n",
      "________________________________________________________\n",
      "MODEL PERFORMANCE ON VALIDATION DATA:\n",
      "\n",
      "predict duration: 26.1 seconds\n",
      "all:  352\n",
      "all_positives:  66\n",
      "all_negatives:  286\n",
      "true_positives:  1\n",
      "true_negatives:  284\n",
      "false_positives:  2\n",
      "false_negatives:  65\n",
      "RECALL: 0.02\n",
      "SPECIFICITY: 0.99\n",
      "ACCURACY: 0.81\n",
      "PRECISION: 0.33\n",
      "F1 SCORE: 0.03\n",
      "FP RATE / ERROR I: 0.01\n",
      "FN RATE / ERROR II: 0.98\n"
     ]
    }
   ],
   "source": [
    "print(\"________________________________________________________\")\n",
    "print(\"TIMING SUMMARY:\\n\")\n",
    "print(\"loading duration: {0:.1f} seconds\".format(duration_loading))\n",
    "print(\"training duration: {0:.1f} seconds\".format(duration_training))\n",
    "\n",
    "print(\"________________________________________________________\")\n",
    "print(\"MODEL PERFORMANCE ON TEST DATA:\\n\")\n",
    "print(\"predict duration: {0:.1f} seconds\".format(test_data_predictions_time))\n",
    "false_positive_images, false_negative_images = summarize_model_performance(X_test, y_test, test_data_predictions)\n",
    "\n",
    "print(\"________________________________________________________\")\n",
    "print(\"MODEL PERFORMANCE ON TRAIN DATA:\\n\")\n",
    "print(\"predict duration: {0:.1f} seconds\".format(train_data_predictions_time))\n",
    "_, _ = summarize_model_performance(X_train, y_train, train_data_predictions)\n",
    "\n",
    "print(\"________________________________________________________\")\n",
    "print(\"MODEL PERFORMANCE ON VALIDATION DATA:\\n\")\n",
    "print(\"predict duration: {0:.1f} seconds\".format(validation_data_predictions_time))\n",
    "_, _ = summarize_model_performance(X_validate, y_validate, validation_data_predictions)"
   ]
  },
  {
   "cell_type": "markdown",
   "metadata": {},
   "source": [
    "## False Positives (first 20):"
   ]
  },
  {
   "cell_type": "code",
   "execution_count": 11,
   "metadata": {},
   "outputs": [
    {
     "data": {
      "text/html": [
       "<div width='100%'><div style=\"font-size: 10px; display:inline-block; width: 270px; border:1px solid black\">          ./data-images/5833078851001-1507.jpg:          <img src=\"./data-images/5833078851001-1507.jpg\" style=\"display:inline-block;\"> </div><div style=\"font-size: 10px; display:inline-block; width: 270px; border:1px solid black\">          ./data-images/5831137888001-160.jpg:          <img src=\"./data-images/5831137888001-160.jpg\" style=\"display:inline-block;\"> </div><div style=\"font-size: 10px; display:inline-block; width: 270px; border:1px solid black\">          ./data-images/5833096735001-1238.jpg:          <img src=\"./data-images/5833096735001-1238.jpg\" style=\"display:inline-block;\"> </div></div>"
      ],
      "text/plain": [
       "<IPython.core.display.HTML object>"
      ]
     },
     "metadata": {},
     "output_type": "display_data"
    }
   ],
   "source": [
    "display_images(false_positive_images[:20])"
   ]
  },
  {
   "cell_type": "markdown",
   "metadata": {},
   "source": [
    "## False Negatives (first 20):"
   ]
  },
  {
   "cell_type": "code",
   "execution_count": 12,
   "metadata": {
    "scrolled": false
   },
   "outputs": [
    {
     "data": {
      "text/html": [
       "<div width='100%'><div style=\"font-size: 10px; display:inline-block; width: 270px; border:1px solid black\">          ./data-images/5831138798001-1330.jpg:          <img src=\"./data-images/5831138798001-1330.jpg\" style=\"display:inline-block;\"> </div><div style=\"font-size: 10px; display:inline-block; width: 270px; border:1px solid black\">          ./data-images/5833090951001-1225.jpg:          <img src=\"./data-images/5833090951001-1225.jpg\" style=\"display:inline-block;\"> </div><div style=\"font-size: 10px; display:inline-block; width: 270px; border:1px solid black\">          ./data-images/5831139883001-9.jpg:          <img src=\"./data-images/5831139883001-9.jpg\" style=\"display:inline-block;\"> </div><div style=\"font-size: 10px; display:inline-block; width: 270px; border:1px solid black\">          ./data-images/5833078851001-792.jpg:          <img src=\"./data-images/5833078851001-792.jpg\" style=\"display:inline-block;\"> </div><div style=\"font-size: 10px; display:inline-block; width: 270px; border:1px solid black\">          ./data-images/5831139883001-1979.jpg:          <img src=\"./data-images/5831139883001-1979.jpg\" style=\"display:inline-block;\"> </div><div style=\"font-size: 10px; display:inline-block; width: 270px; border:1px solid black\">          ./data-images/5833078851001-1457.jpg:          <img src=\"./data-images/5833078851001-1457.jpg\" style=\"display:inline-block;\"> </div><div style=\"font-size: 10px; display:inline-block; width: 270px; border:1px solid black\">          ./data-images/5831135989001-1849.jpg:          <img src=\"./data-images/5831135989001-1849.jpg\" style=\"display:inline-block;\"> </div><div style=\"font-size: 10px; display:inline-block; width: 270px; border:1px solid black\">          ./data-images/5833078851001-477.jpg:          <img src=\"./data-images/5833078851001-477.jpg\" style=\"display:inline-block;\"> </div><div style=\"font-size: 10px; display:inline-block; width: 270px; border:1px solid black\">          ./data-images/5831138798001-1310.jpg:          <img src=\"./data-images/5831138798001-1310.jpg\" style=\"display:inline-block;\"> </div><div style=\"font-size: 10px; display:inline-block; width: 270px; border:1px solid black\">          ./data-images/5833096735001-1595.jpg:          <img src=\"./data-images/5833096735001-1595.jpg\" style=\"display:inline-block;\"> </div><div style=\"font-size: 10px; display:inline-block; width: 270px; border:1px solid black\">          ./data-images/5831138807001-1422.jpg:          <img src=\"./data-images/5831138807001-1422.jpg\" style=\"display:inline-block;\"> </div><div style=\"font-size: 10px; display:inline-block; width: 270px; border:1px solid black\">          ./data-images/5831138798001-166.jpg:          <img src=\"./data-images/5831138798001-166.jpg\" style=\"display:inline-block;\"> </div><div style=\"font-size: 10px; display:inline-block; width: 270px; border:1px solid black\">          ./data-images/5831139886001-806.jpg:          <img src=\"./data-images/5831139886001-806.jpg\" style=\"display:inline-block;\"> </div><div style=\"font-size: 10px; display:inline-block; width: 270px; border:1px solid black\">          ./data-images/5831135399001-780.jpg:          <img src=\"./data-images/5831135399001-780.jpg\" style=\"display:inline-block;\"> </div><div style=\"font-size: 10px; display:inline-block; width: 270px; border:1px solid black\">          ./data-images/5831135989001-774.jpg:          <img src=\"./data-images/5831135989001-774.jpg\" style=\"display:inline-block;\"> </div><div style=\"font-size: 10px; display:inline-block; width: 270px; border:1px solid black\">          ./data-images/5831138807001-244.jpg:          <img src=\"./data-images/5831138807001-244.jpg\" style=\"display:inline-block;\"> </div><div style=\"font-size: 10px; display:inline-block; width: 270px; border:1px solid black\">          ./data-images/5833078851001-402.jpg:          <img src=\"./data-images/5833078851001-402.jpg\" style=\"display:inline-block;\"> </div><div style=\"font-size: 10px; display:inline-block; width: 270px; border:1px solid black\">          ./data-images/5831135399001-1290.jpg:          <img src=\"./data-images/5831135399001-1290.jpg\" style=\"display:inline-block;\"> </div><div style=\"font-size: 10px; display:inline-block; width: 270px; border:1px solid black\">          ./data-images/5833084561001-1271.jpg:          <img src=\"./data-images/5833084561001-1271.jpg\" style=\"display:inline-block;\"> </div><div style=\"font-size: 10px; display:inline-block; width: 270px; border:1px solid black\">          ./data-images/5831135399001-754.jpg:          <img src=\"./data-images/5831135399001-754.jpg\" style=\"display:inline-block;\"> </div></div>"
      ],
      "text/plain": [
       "<IPython.core.display.HTML object>"
      ]
     },
     "metadata": {},
     "output_type": "display_data"
    }
   ],
   "source": [
    "display_images(false_negative_images[:20])"
   ]
  },
  {
   "cell_type": "code",
   "execution_count": null,
   "metadata": {},
   "outputs": [],
   "source": []
  }
 ],
 "metadata": {
  "kernelspec": {
   "display_name": "Python 3",
   "language": "python",
   "name": "python3"
  },
  "language_info": {
   "codemirror_mode": {
    "name": "ipython",
    "version": 3
   },
   "file_extension": ".py",
   "mimetype": "text/x-python",
   "name": "python",
   "nbconvert_exporter": "python",
   "pygments_lexer": "ipython3",
   "version": "3.6.4"
  }
 },
 "nbformat": 4,
 "nbformat_minor": 1
}
