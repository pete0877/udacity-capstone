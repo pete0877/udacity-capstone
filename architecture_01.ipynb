{
 "cells": [
  {
   "cell_type": "code",
   "execution_count": 1,
   "metadata": {},
   "outputs": [
    {
     "name": "stderr",
     "output_type": "stream",
     "text": [
      "Using TensorFlow backend.\n"
     ]
    }
   ],
   "source": [
    "import datetime\n",
    "import random\n",
    "\n",
    "import numpy as np\n",
    "from keras.layers import Activation\n",
    "from keras.layers import Conv2D, MaxPooling2D, GlobalAveragePooling2D\n",
    "from keras.layers import Dense\n",
    "from keras.layers.normalization import BatchNormalization\n",
    "from keras.models import Sequential, Model\n",
    "from keras.applications.resnet50 import ResNet50\n",
    "from keras.applications import VGG16\n",
    "from keras.applications.inception_v3 import InceptionV3\n",
    "from tqdm import tqdm\n",
    "\n",
    "from common import *"
   ]
  },
  {
   "cell_type": "code",
   "execution_count": 2,
   "metadata": {},
   "outputs": [
    {
     "name": "stdout",
     "output_type": "stream",
     "text": [
      ".. setting base configuration & params ..\n"
     ]
    }
   ],
   "source": [
    "print(\".. setting base configuration & params ..\")\n",
    "\n",
    "initialize()\n",
    "\n",
    "best_model_filepath = './saved-models/achitecture-01.hdf5'\n",
    "training_epochs = 50\n",
    "batch_size = 20\n",
    "images_size = 270\n"
   ]
  },
  {
   "cell_type": "code",
   "execution_count": 3,
   "metadata": {},
   "outputs": [
    {
     "name": "stdout",
     "output_type": "stream",
     "text": [
      ".. loading & splitting data ..\n"
     ]
    },
    {
     "name": "stderr",
     "output_type": "stream",
     "text": [
      "100%|██████████| 1408/1408 [00:02<00:00, 545.72it/s]\n",
      "100%|██████████| 440/440 [00:00<00:00, 547.34it/s]\n",
      "100%|██████████| 352/352 [00:00<00:00, 548.93it/s]\n"
     ]
    }
   ],
   "source": [
    "(train_tensors, X_train, y_train,\n",
    "test_tensors, X_test, y_test, \n",
    "valid_tensors, X_validate, y_validate, \n",
    "duration_loading) = load_and_split_data(images_size=images_size)"
   ]
  },
  {
   "cell_type": "code",
   "execution_count": 4,
   "metadata": {},
   "outputs": [
    {
     "name": "stdout",
     "output_type": "stream",
     "text": [
      ".. constructing the model ..\n",
      "_________________________________________________________________\n",
      "Layer (type)                 Output Shape              Param #   \n",
      "=================================================================\n",
      "conv2d_1 (Conv2D)            (None, 270, 270, 16)      208       \n",
      "_________________________________________________________________\n",
      "batch_normalization_1 (Batch (None, 270, 270, 16)      64        \n",
      "_________________________________________________________________\n",
      "activation_1 (Activation)    (None, 270, 270, 16)      0         \n",
      "_________________________________________________________________\n",
      "max_pooling2d_1 (MaxPooling2 (None, 135, 135, 16)      0         \n",
      "_________________________________________________________________\n",
      "conv2d_2 (Conv2D)            (None, 135, 135, 32)      2080      \n",
      "_________________________________________________________________\n",
      "batch_normalization_2 (Batch (None, 135, 135, 32)      128       \n",
      "_________________________________________________________________\n",
      "activation_2 (Activation)    (None, 135, 135, 32)      0         \n",
      "_________________________________________________________________\n",
      "max_pooling2d_2 (MaxPooling2 (None, 67, 67, 32)        0         \n",
      "_________________________________________________________________\n",
      "conv2d_3 (Conv2D)            (None, 67, 67, 64)        8256      \n",
      "_________________________________________________________________\n",
      "batch_normalization_3 (Batch (None, 67, 67, 64)        256       \n",
      "_________________________________________________________________\n",
      "activation_3 (Activation)    (None, 67, 67, 64)        0         \n",
      "_________________________________________________________________\n",
      "max_pooling2d_3 (MaxPooling2 (None, 33, 33, 64)        0         \n",
      "_________________________________________________________________\n",
      "global_average_pooling2d_1 ( (None, 64)                0         \n",
      "_________________________________________________________________\n",
      "dense_1 (Dense)              (None, 2)                 130       \n",
      "=================================================================\n",
      "Total params: 11,122\n",
      "Trainable params: 10,898\n",
      "Non-trainable params: 224\n",
      "_________________________________________________________________\n"
     ]
    }
   ],
   "source": [
    "print(\".. constructing the model ..\")\n",
    "\n",
    "model = Sequential()\n",
    "\n",
    "model.add(Conv2D(filters=16, kernel_size=2, padding='same', input_shape=(images_size, images_size, 3), \n",
    "                 data_format=\"channels_last\"))\n",
    "model.add(BatchNormalization())\n",
    "model.add(Activation('relu'))\n",
    "model.add(MaxPooling2D(pool_size=(2, 2)))\n",
    "\n",
    "model.add(Conv2D(filters=32, kernel_size=2, padding='same'))\n",
    "model.add(BatchNormalization())\n",
    "model.add(Activation('relu'))\n",
    "model.add(MaxPooling2D(pool_size=(2, 2)))\n",
    "\n",
    "model.add(Conv2D(filters=64, kernel_size=2, padding='same'))\n",
    "model.add(BatchNormalization())\n",
    "model.add(Activation('relu'))\n",
    "model.add(MaxPooling2D(pool_size=(2, 2)))\n",
    "\n",
    "model.add(GlobalAveragePooling2D())\n",
    "model.add(Dense(2, activation='softmax'))\n",
    "\n",
    "model.summary()\n",
    "\n",
    "model.compile(optimizer='rmsprop', loss='categorical_crossentropy', metrics=['accuracy'])\n"
   ]
  },
  {
   "cell_type": "code",
   "execution_count": 5,
   "metadata": {},
   "outputs": [
    {
     "name": "stdout",
     "output_type": "stream",
     "text": [
      ".. training the model ..\n",
      "Train on 1408 samples, validate on 352 samples\n",
      "Epoch 1/50\n",
      "1408/1408 [==============================] - 461s 327ms/step - loss: 0.4370 - acc: 0.7834 - val_loss: 0.4045 - val_acc: 0.8494\n",
      "\n",
      "Epoch 00001: val_loss improved from inf to 0.40453, saving model to ./saved-models/achitecture-01.hdf5\n",
      "Epoch 2/50\n",
      "1408/1408 [==============================] - 471s 335ms/step - loss: 0.3458 - acc: 0.8310 - val_loss: 0.4149 - val_acc: 0.8295\n",
      "\n",
      "Epoch 00002: val_loss did not improve from 0.40453\n",
      "Epoch 3/50\n",
      "1408/1408 [==============================] - 469s 333ms/step - loss: 0.3229 - acc: 0.8402 - val_loss: 0.2815 - val_acc: 0.9034\n",
      "\n",
      "Epoch 00003: val_loss improved from 0.40453 to 0.28148, saving model to ./saved-models/achitecture-01.hdf5\n",
      "Epoch 4/50\n",
      "1408/1408 [==============================] - 467s 332ms/step - loss: 0.2949 - acc: 0.8622 - val_loss: 0.2619 - val_acc: 0.8381\n",
      "\n",
      "Epoch 00004: val_loss improved from 0.28148 to 0.26194, saving model to ./saved-models/achitecture-01.hdf5\n",
      "Epoch 5/50\n",
      "1408/1408 [==============================] - 468s 332ms/step - loss: 0.2887 - acc: 0.8551 - val_loss: 0.2676 - val_acc: 0.8409\n",
      "\n",
      "Epoch 00005: val_loss did not improve from 0.26194\n",
      "Epoch 6/50\n",
      "1408/1408 [==============================] - 469s 333ms/step - loss: 0.2932 - acc: 0.8601 - val_loss: 0.2689 - val_acc: 0.8977\n",
      "\n",
      "Epoch 00006: val_loss did not improve from 0.26194\n",
      "Epoch 7/50\n",
      "1408/1408 [==============================] - 469s 333ms/step - loss: 0.2793 - acc: 0.8722 - val_loss: 0.2080 - val_acc: 0.9091\n",
      "\n",
      "Epoch 00007: val_loss improved from 0.26194 to 0.20803, saving model to ./saved-models/achitecture-01.hdf5\n",
      "Epoch 8/50\n",
      "1408/1408 [==============================] - 473s 336ms/step - loss: 0.2802 - acc: 0.8700 - val_loss: 0.3290 - val_acc: 0.8636\n",
      "\n",
      "Epoch 00008: val_loss did not improve from 0.20803\n",
      "Epoch 9/50\n",
      "1408/1408 [==============================] - 471s 335ms/step - loss: 0.2667 - acc: 0.8714 - val_loss: 0.2297 - val_acc: 0.8636\n",
      "\n",
      "Epoch 00009: val_loss did not improve from 0.20803\n",
      "Epoch 10/50\n",
      "1408/1408 [==============================] - 470s 333ms/step - loss: 0.2645 - acc: 0.8778 - val_loss: 0.2491 - val_acc: 0.8892\n",
      "\n",
      "Epoch 00010: val_loss did not improve from 0.20803\n",
      "Epoch 11/50\n",
      "1408/1408 [==============================] - 472s 335ms/step - loss: 0.2565 - acc: 0.8842 - val_loss: 0.2934 - val_acc: 0.8523\n",
      "\n",
      "Epoch 00011: val_loss did not improve from 0.20803\n",
      "Epoch 12/50\n",
      "1408/1408 [==============================] - 598s 425ms/step - loss: 0.2489 - acc: 0.8828 - val_loss: 0.2077 - val_acc: 0.9119\n",
      "\n",
      "Epoch 00012: val_loss improved from 0.20803 to 0.20766, saving model to ./saved-models/achitecture-01.hdf5\n",
      "Epoch 13/50\n",
      "1408/1408 [==============================] - 665s 472ms/step - loss: 0.2544 - acc: 0.8793 - val_loss: 0.3191 - val_acc: 0.8324\n",
      "\n",
      "Epoch 00013: val_loss did not improve from 0.20766\n",
      "Epoch 14/50\n",
      "1408/1408 [==============================] - 681s 484ms/step - loss: 0.2494 - acc: 0.8835 - val_loss: 0.2156 - val_acc: 0.9119\n",
      "\n",
      "Epoch 00014: val_loss did not improve from 0.20766\n",
      "Epoch 15/50\n",
      "1408/1408 [==============================] - 663s 471ms/step - loss: 0.2473 - acc: 0.8750 - val_loss: 0.2992 - val_acc: 0.8722\n",
      "\n",
      "Epoch 00015: val_loss did not improve from 0.20766\n",
      "Epoch 16/50\n",
      "1408/1408 [==============================] - 682s 484ms/step - loss: 0.2459 - acc: 0.8786 - val_loss: 0.2273 - val_acc: 0.9062\n",
      "\n",
      "Epoch 00016: val_loss did not improve from 0.20766\n",
      "Epoch 17/50\n",
      "1408/1408 [==============================] - 661s 470ms/step - loss: 0.2460 - acc: 0.8892 - val_loss: 0.2143 - val_acc: 0.8722\n",
      "\n",
      "Epoch 00017: val_loss did not improve from 0.20766\n",
      "Epoch 18/50\n",
      "1408/1408 [==============================] - 686s 487ms/step - loss: 0.2304 - acc: 0.8864 - val_loss: 0.2086 - val_acc: 0.9006\n",
      "\n",
      "Epoch 00018: val_loss did not improve from 0.20766\n",
      "Epoch 19/50\n",
      "1408/1408 [==============================] - 664s 472ms/step - loss: 0.2404 - acc: 0.8899 - val_loss: 0.2120 - val_acc: 0.9119\n",
      "\n",
      "Epoch 00019: val_loss did not improve from 0.20766\n",
      "Epoch 20/50\n",
      "1408/1408 [==============================] - 684s 486ms/step - loss: 0.2299 - acc: 0.8942 - val_loss: 0.3012 - val_acc: 0.8778\n",
      "\n",
      "Epoch 00020: val_loss did not improve from 0.20766\n",
      "Epoch 21/50\n",
      "1408/1408 [==============================] - 665s 472ms/step - loss: 0.2456 - acc: 0.8807 - val_loss: 0.6748 - val_acc: 0.8125\n",
      "\n",
      "Epoch 00021: val_loss did not improve from 0.20766\n",
      "Epoch 22/50\n",
      "1408/1408 [==============================] - 683s 485ms/step - loss: 0.2387 - acc: 0.8842 - val_loss: 0.2498 - val_acc: 0.8665\n",
      "\n",
      "Epoch 00022: val_loss did not improve from 0.20766\n",
      "Epoch 23/50\n",
      "1408/1408 [==============================] - 665s 473ms/step - loss: 0.2397 - acc: 0.8885 - val_loss: 0.2317 - val_acc: 0.8892\n",
      "\n",
      "Epoch 00023: val_loss did not improve from 0.20766\n",
      "Epoch 24/50\n",
      "1408/1408 [==============================] - 681s 483ms/step - loss: 0.2320 - acc: 0.8878 - val_loss: 0.2388 - val_acc: 0.8750\n",
      "\n",
      "Epoch 00024: val_loss did not improve from 0.20766\n",
      "Epoch 25/50\n",
      "1408/1408 [==============================] - 661s 470ms/step - loss: 0.2316 - acc: 0.8849 - val_loss: 0.2606 - val_acc: 0.8949\n",
      "\n",
      "Epoch 00025: val_loss did not improve from 0.20766\n",
      "Epoch 26/50\n",
      "1408/1408 [==============================] - 684s 485ms/step - loss: 0.2199 - acc: 0.8984 - val_loss: 0.2044 - val_acc: 0.9233\n",
      "\n",
      "Epoch 00026: val_loss improved from 0.20766 to 0.20440, saving model to ./saved-models/achitecture-01.hdf5\n",
      "Epoch 27/50\n",
      "1408/1408 [==============================] - 668s 475ms/step - loss: 0.2234 - acc: 0.8892 - val_loss: 0.2644 - val_acc: 0.8580\n",
      "\n",
      "Epoch 00027: val_loss did not improve from 0.20440\n",
      "Epoch 28/50\n",
      "1408/1408 [==============================] - 680s 483ms/step - loss: 0.2220 - acc: 0.8984 - val_loss: 0.2189 - val_acc: 0.8977\n",
      "\n",
      "Epoch 00028: val_loss did not improve from 0.20440\n",
      "Epoch 29/50\n",
      "1408/1408 [==============================] - 668s 475ms/step - loss: 0.2247 - acc: 0.8999 - val_loss: 0.4519 - val_acc: 0.7898\n",
      "\n",
      "Epoch 00029: val_loss did not improve from 0.20440\n",
      "Epoch 30/50\n",
      "1408/1408 [==============================] - 683s 485ms/step - loss: 0.2345 - acc: 0.8956 - val_loss: 0.1805 - val_acc: 0.9205\n",
      "\n",
      "Epoch 00030: val_loss improved from 0.20440 to 0.18054, saving model to ./saved-models/achitecture-01.hdf5\n",
      "Epoch 31/50\n",
      "1408/1408 [==============================] - 668s 474ms/step - loss: 0.2243 - acc: 0.8920 - val_loss: 0.1937 - val_acc: 0.9091\n",
      "\n",
      "Epoch 00031: val_loss did not improve from 0.18054\n",
      "Epoch 32/50\n",
      "1408/1408 [==============================] - 685s 486ms/step - loss: 0.2252 - acc: 0.8913 - val_loss: 0.2209 - val_acc: 0.9006\n",
      "\n",
      "Epoch 00032: val_loss did not improve from 0.18054\n",
      "Epoch 33/50\n",
      "1408/1408 [==============================] - 665s 473ms/step - loss: 0.2317 - acc: 0.8949 - val_loss: 0.1902 - val_acc: 0.9006\n",
      "\n",
      "Epoch 00033: val_loss did not improve from 0.18054\n",
      "Epoch 34/50\n",
      "1408/1408 [==============================] - 683s 485ms/step - loss: 0.2229 - acc: 0.8963 - val_loss: 0.2360 - val_acc: 0.9062\n",
      "\n",
      "Epoch 00034: val_loss did not improve from 0.18054\n",
      "Epoch 35/50\n",
      "1408/1408 [==============================] - 666s 473ms/step - loss: 0.2198 - acc: 0.8977 - val_loss: 0.2786 - val_acc: 0.8864\n",
      "\n",
      "Epoch 00035: val_loss did not improve from 0.18054\n",
      "Epoch 36/50\n",
      "1408/1408 [==============================] - 678s 481ms/step - loss: 0.2191 - acc: 0.8984 - val_loss: 0.2963 - val_acc: 0.8864\n",
      "\n",
      "Epoch 00036: val_loss did not improve from 0.18054\n",
      "Epoch 37/50\n",
      "1408/1408 [==============================] - 670s 476ms/step - loss: 0.2157 - acc: 0.8956 - val_loss: 0.2026 - val_acc: 0.9261\n",
      "\n",
      "Epoch 00037: val_loss did not improve from 0.18054\n",
      "Epoch 38/50\n",
      "1408/1408 [==============================] - 669s 475ms/step - loss: 0.2213 - acc: 0.8942 - val_loss: 0.1912 - val_acc: 0.9148\n",
      "\n",
      "Epoch 00038: val_loss did not improve from 0.18054\n",
      "Epoch 39/50\n",
      "1408/1408 [==============================] - 683s 485ms/step - loss: 0.2164 - acc: 0.9084 - val_loss: 0.4051 - val_acc: 0.8239\n",
      "\n",
      "Epoch 00039: val_loss did not improve from 0.18054\n",
      "Epoch 40/50\n",
      "1408/1408 [==============================] - 662s 470ms/step - loss: 0.2148 - acc: 0.8977 - val_loss: 0.2879 - val_acc: 0.8864\n",
      "\n",
      "Epoch 00040: val_loss did not improve from 0.18054\n",
      "Epoch 41/50\n",
      "1408/1408 [==============================] - 683s 485ms/step - loss: 0.2053 - acc: 0.9062 - val_loss: 0.2106 - val_acc: 0.8807\n"
     ]
    },
    {
     "name": "stdout",
     "output_type": "stream",
     "text": [
      "\n",
      "Epoch 00041: val_loss did not improve from 0.18054\n",
      "Epoch 42/50\n",
      "1408/1408 [==============================] - 670s 476ms/step - loss: 0.2102 - acc: 0.9027 - val_loss: 0.3036 - val_acc: 0.8722\n",
      "\n",
      "Epoch 00042: val_loss did not improve from 0.18054\n",
      "Epoch 43/50\n",
      "1408/1408 [==============================] - 681s 484ms/step - loss: 0.2091 - acc: 0.8984 - val_loss: 0.3534 - val_acc: 0.8551\n",
      "\n",
      "Epoch 00043: val_loss did not improve from 0.18054\n",
      "Epoch 44/50\n",
      "1408/1408 [==============================] - 670s 476ms/step - loss: 0.2060 - acc: 0.9077 - val_loss: 0.2060 - val_acc: 0.9091\n",
      "\n",
      "Epoch 00044: val_loss did not improve from 0.18054\n",
      "Epoch 45/50\n",
      "1408/1408 [==============================] - 681s 484ms/step - loss: 0.2012 - acc: 0.9084 - val_loss: 0.2598 - val_acc: 0.8920\n",
      "\n",
      "Epoch 00045: val_loss did not improve from 0.18054\n",
      "Epoch 46/50\n",
      "1408/1408 [==============================] - 658s 468ms/step - loss: 0.2066 - acc: 0.9013 - val_loss: 0.1867 - val_acc: 0.9205\n",
      "\n",
      "Epoch 00046: val_loss did not improve from 0.18054\n",
      "Epoch 47/50\n",
      "1408/1408 [==============================] - 685s 487ms/step - loss: 0.2029 - acc: 0.9070 - val_loss: 0.2324 - val_acc: 0.8949\n",
      "\n",
      "Epoch 00047: val_loss did not improve from 0.18054\n",
      "Epoch 48/50\n",
      "1408/1408 [==============================] - 669s 475ms/step - loss: 0.2059 - acc: 0.9062 - val_loss: 0.2219 - val_acc: 0.9148\n",
      "\n",
      "Epoch 00048: val_loss did not improve from 0.18054\n",
      "Epoch 49/50\n",
      "1408/1408 [==============================] - 677s 481ms/step - loss: 0.1958 - acc: 0.9134 - val_loss: 0.1887 - val_acc: 0.9176\n",
      "\n",
      "Epoch 00049: val_loss did not improve from 0.18054\n",
      "Epoch 50/50\n",
      "1408/1408 [==============================] - 674s 479ms/step - loss: 0.1976 - acc: 0.9126 - val_loss: 0.4241 - val_acc: 0.8523\n",
      "\n",
      "Epoch 00050: val_loss did not improve from 0.18054\n"
     ]
    }
   ],
   "source": [
    "duration_training = train_single_model(model, \n",
    "                                       best_model_filepath, \n",
    "                                       train_tensors, y_train, \n",
    "                                       valid_tensors, y_validate, \n",
    "                                       training_epochs, \n",
    "                                       batch_size)\n"
   ]
  },
  {
   "cell_type": "code",
   "execution_count": 6,
   "metadata": {},
   "outputs": [
    {
     "name": "stdout",
     "output_type": "stream",
     "text": [
      ".. loading best weights ..\n"
     ]
    }
   ],
   "source": [
    "print(\".. loading best weights ..\")\n",
    "\n",
    "model.load_weights(best_model_filepath)"
   ]
  },
  {
   "cell_type": "code",
   "execution_count": 7,
   "metadata": {},
   "outputs": [
    {
     "name": "stderr",
     "output_type": "stream",
     "text": [
      "\r",
      "  0%|          | 0/440 [00:00<?, ?it/s]"
     ]
    },
    {
     "name": "stdout",
     "output_type": "stream",
     "text": [
      ".. testing the model on Test data ..\n"
     ]
    },
    {
     "name": "stderr",
     "output_type": "stream",
     "text": [
      "100%|██████████| 440/440 [01:40<00:00,  4.44it/s]\n"
     ]
    }
   ],
   "source": [
    "print(\".. testing the model on Test data ..\")\n",
    "section_start_time = datetime.datetime.utcnow()\n",
    "\n",
    "test_data_predictions = [np.argmax(model.predict(np.expand_dims(tensor, axis=0))) for tensor in tqdm(test_tensors)]\n",
    "\n",
    "test_data_predictions_time = (datetime.datetime.utcnow() - section_start_time).total_seconds()"
   ]
  },
  {
   "cell_type": "code",
   "execution_count": 8,
   "metadata": {},
   "outputs": [
    {
     "name": "stderr",
     "output_type": "stream",
     "text": [
      "\r",
      "  0%|          | 0/1408 [00:00<?, ?it/s]"
     ]
    },
    {
     "name": "stdout",
     "output_type": "stream",
     "text": [
      ".. testing the model on Training data ..\n"
     ]
    },
    {
     "name": "stderr",
     "output_type": "stream",
     "text": [
      "100%|██████████| 1408/1408 [05:24<00:00,  4.56it/s]\n"
     ]
    }
   ],
   "source": [
    "print(\".. testing the model on Training data ..\")\n",
    "section_start_time = datetime.datetime.utcnow()\n",
    "\n",
    "train_data_predictions = [np.argmax(model.predict(np.expand_dims(tensor, axis=0))) for tensor in tqdm(train_tensors)]\n",
    "\n",
    "train_data_predictions_time = (datetime.datetime.utcnow() - section_start_time).total_seconds()"
   ]
  },
  {
   "cell_type": "code",
   "execution_count": 9,
   "metadata": {},
   "outputs": [
    {
     "name": "stderr",
     "output_type": "stream",
     "text": [
      "\r",
      "  0%|          | 0/352 [00:00<?, ?it/s]"
     ]
    },
    {
     "name": "stdout",
     "output_type": "stream",
     "text": [
      ".. testing the model on Validation data ..\n"
     ]
    },
    {
     "name": "stderr",
     "output_type": "stream",
     "text": [
      "100%|██████████| 352/352 [01:19<00:00,  4.54it/s]\n"
     ]
    }
   ],
   "source": [
    "print(\".. testing the model on Validation data ..\")\n",
    "section_start_time = datetime.datetime.utcnow()\n",
    "\n",
    "validation_data_predictions = [np.argmax(model.predict(np.expand_dims(tensor, axis=0))) for tensor in tqdm(valid_tensors)]\n",
    "\n",
    "validation_data_predictions_time = (datetime.datetime.utcnow() - section_start_time).total_seconds()"
   ]
  },
  {
   "cell_type": "code",
   "execution_count": 10,
   "metadata": {},
   "outputs": [
    {
     "name": "stdout",
     "output_type": "stream",
     "text": [
      "________________________________________________________\n",
      "TIMING SUMMARY:\n",
      "\n",
      "loading duration: 6.7 seconds\n",
      "training duration: 31363.9 seconds\n",
      "________________________________________________________\n",
      "MODEL PERFORMANCE ON TEST DATA:\n",
      "\n",
      "predict duration: 100.6 seconds\n",
      "all:  440\n",
      "all_positives:  81\n",
      "all_negatives:  359\n",
      "true_positives:  70\n",
      "true_negatives:  341\n",
      "false_positives:  18\n",
      "false_negatives:  11\n",
      "RECALL: 0.86\n",
      "SPECIFICITY: 0.95\n",
      "ACCURACY: 0.93\n",
      "PRECISION: 0.80\n",
      "F1 SCORE: 0.83\n",
      "FP RATE / ERROR I: 0.05\n",
      "FN RATE / ERROR II: 0.14\n",
      "________________________________________________________\n",
      "MODEL PERFORMANCE ON TRAIN DATA:\n",
      "\n",
      "predict duration: 324.3 seconds\n",
      "all:  1408\n",
      "all_positives:  316\n",
      "all_negatives:  1092\n",
      "true_positives:  255\n",
      "true_negatives:  1026\n",
      "false_positives:  66\n",
      "false_negatives:  61\n",
      "RECALL: 0.81\n",
      "SPECIFICITY: 0.94\n",
      "ACCURACY: 0.91\n",
      "PRECISION: 0.79\n",
      "F1 SCORE: 0.80\n",
      "FP RATE / ERROR I: 0.06\n",
      "FN RATE / ERROR II: 0.19\n",
      "________________________________________________________\n",
      "MODEL PERFORMANCE ON VALIDATION DATA:\n",
      "\n",
      "predict duration: 79.8 seconds\n",
      "all:  352\n",
      "all_positives:  66\n",
      "all_negatives:  286\n",
      "true_positives:  53\n",
      "true_negatives:  271\n",
      "false_positives:  15\n",
      "false_negatives:  13\n",
      "RECALL: 0.80\n",
      "SPECIFICITY: 0.95\n",
      "ACCURACY: 0.92\n",
      "PRECISION: 0.78\n",
      "F1 SCORE: 0.79\n",
      "FP RATE / ERROR I: 0.05\n",
      "FN RATE / ERROR II: 0.20\n"
     ]
    }
   ],
   "source": [
    "print(\"________________________________________________________\")\n",
    "print(\"TIMING SUMMARY:\\n\")\n",
    "print(\"loading duration: {0:.1f} seconds\".format(duration_loading))\n",
    "print(\"training duration: {0:.1f} seconds\".format(duration_training))\n",
    "\n",
    "print(\"________________________________________________________\")\n",
    "print(\"MODEL PERFORMANCE ON TEST DATA:\\n\")\n",
    "print(\"predict duration: {0:.1f} seconds\".format(test_data_predictions_time))\n",
    "false_positive_images, false_negative_images = summarize_model_performance(X_test, y_test, test_data_predictions)\n",
    "\n",
    "print(\"________________________________________________________\")\n",
    "print(\"MODEL PERFORMANCE ON TRAIN DATA:\\n\")\n",
    "print(\"predict duration: {0:.1f} seconds\".format(train_data_predictions_time))\n",
    "_, _ = summarize_model_performance(X_train, y_train, train_data_predictions)\n",
    "\n",
    "print(\"________________________________________________________\")\n",
    "print(\"MODEL PERFORMANCE ON VALIDATION DATA:\\n\")\n",
    "print(\"predict duration: {0:.1f} seconds\".format(validation_data_predictions_time))\n",
    "_, _ = summarize_model_performance(X_validate, y_validate, validation_data_predictions)"
   ]
  },
  {
   "cell_type": "markdown",
   "metadata": {},
   "source": [
    "## False Positives (first 20):"
   ]
  },
  {
   "cell_type": "code",
   "execution_count": 11,
   "metadata": {},
   "outputs": [
    {
     "data": {
      "text/html": [
       "<div width='100%'><div style=\"font-size: 10px; display:inline-block; width: 270px; border:1px solid black\">          ./data-images/5831138798001-266.jpg:          <img src=\"./data-images/5831138798001-266.jpg\" style=\"display:inline-block;\"> </div><div style=\"font-size: 10px; display:inline-block; width: 270px; border:1px solid black\">          ./data-images/5831138807001-1785.jpg:          <img src=\"./data-images/5831138807001-1785.jpg\" style=\"display:inline-block;\"> </div><div style=\"font-size: 10px; display:inline-block; width: 270px; border:1px solid black\">          ./data-images/5831138798001-42.jpg:          <img src=\"./data-images/5831138798001-42.jpg\" style=\"display:inline-block;\"> </div><div style=\"font-size: 10px; display:inline-block; width: 270px; border:1px solid black\">          ./data-images/5833096735001-762.jpg:          <img src=\"./data-images/5833096735001-762.jpg\" style=\"display:inline-block;\"> </div><div style=\"font-size: 10px; display:inline-block; width: 270px; border:1px solid black\">          ./data-images/5831139883001-314.jpg:          <img src=\"./data-images/5831139883001-314.jpg\" style=\"display:inline-block;\"> </div><div style=\"font-size: 10px; display:inline-block; width: 270px; border:1px solid black\">          ./data-images/5831135989001-660.jpg:          <img src=\"./data-images/5831135989001-660.jpg\" style=\"display:inline-block;\"> </div><div style=\"font-size: 10px; display:inline-block; width: 270px; border:1px solid black\">          ./data-images/5833078851001-2231.jpg:          <img src=\"./data-images/5833078851001-2231.jpg\" style=\"display:inline-block;\"> </div><div style=\"font-size: 10px; display:inline-block; width: 270px; border:1px solid black\">          ./data-images/5833084561001-1870.jpg:          <img src=\"./data-images/5833084561001-1870.jpg\" style=\"display:inline-block;\"> </div><div style=\"font-size: 10px; display:inline-block; width: 270px; border:1px solid black\">          ./data-images/5833096735001-225.jpg:          <img src=\"./data-images/5833096735001-225.jpg\" style=\"display:inline-block;\"> </div><div style=\"font-size: 10px; display:inline-block; width: 270px; border:1px solid black\">          ./data-images/5831137888001-160.jpg:          <img src=\"./data-images/5831137888001-160.jpg\" style=\"display:inline-block;\"> </div><div style=\"font-size: 10px; display:inline-block; width: 270px; border:1px solid black\">          ./data-images/5831135989001-2442.jpg:          <img src=\"./data-images/5831135989001-2442.jpg\" style=\"display:inline-block;\"> </div><div style=\"font-size: 10px; display:inline-block; width: 270px; border:1px solid black\">          ./data-images/5831139883001-2158.jpg:          <img src=\"./data-images/5831139883001-2158.jpg\" style=\"display:inline-block;\"> </div><div style=\"font-size: 10px; display:inline-block; width: 270px; border:1px solid black\">          ./data-images/5831138807001-1266.jpg:          <img src=\"./data-images/5831138807001-1266.jpg\" style=\"display:inline-block;\"> </div><div style=\"font-size: 10px; display:inline-block; width: 270px; border:1px solid black\">          ./data-images/5833078851001-801.jpg:          <img src=\"./data-images/5833078851001-801.jpg\" style=\"display:inline-block;\"> </div><div style=\"font-size: 10px; display:inline-block; width: 270px; border:1px solid black\">          ./data-images/5831139886001-1272.jpg:          <img src=\"./data-images/5831139886001-1272.jpg\" style=\"display:inline-block;\"> </div><div style=\"font-size: 10px; display:inline-block; width: 270px; border:1px solid black\">          ./data-images/5833078851001-930.jpg:          <img src=\"./data-images/5833078851001-930.jpg\" style=\"display:inline-block;\"> </div><div style=\"font-size: 10px; display:inline-block; width: 270px; border:1px solid black\">          ./data-images/5831135989001-631.jpg:          <img src=\"./data-images/5831135989001-631.jpg\" style=\"display:inline-block;\"> </div><div style=\"font-size: 10px; display:inline-block; width: 270px; border:1px solid black\">          ./data-images/5833096735001-1238.jpg:          <img src=\"./data-images/5833096735001-1238.jpg\" style=\"display:inline-block;\"> </div></div>"
      ],
      "text/plain": [
       "<IPython.core.display.HTML object>"
      ]
     },
     "metadata": {},
     "output_type": "display_data"
    }
   ],
   "source": [
    "display_images(false_positive_images[:20])"
   ]
  },
  {
   "cell_type": "markdown",
   "metadata": {},
   "source": [
    "## False Negatives (first 20):"
   ]
  },
  {
   "cell_type": "code",
   "execution_count": 12,
   "metadata": {
    "scrolled": false
   },
   "outputs": [
    {
     "data": {
      "text/html": [
       "<div width='100%'><div style=\"font-size: 10px; display:inline-block; width: 270px; border:1px solid black\">          ./data-images/5833084561001-1271.jpg:          <img src=\"./data-images/5833084561001-1271.jpg\" style=\"display:inline-block;\"> </div><div style=\"font-size: 10px; display:inline-block; width: 270px; border:1px solid black\">          ./data-images/5831138807001-79.jpg:          <img src=\"./data-images/5831138807001-79.jpg\" style=\"display:inline-block;\"> </div><div style=\"font-size: 10px; display:inline-block; width: 270px; border:1px solid black\">          ./data-images/5833078851001-1646.jpg:          <img src=\"./data-images/5833078851001-1646.jpg\" style=\"display:inline-block;\"> </div><div style=\"font-size: 10px; display:inline-block; width: 270px; border:1px solid black\">          ./data-images/5831135399001-2241.jpg:          <img src=\"./data-images/5831135399001-2241.jpg\" style=\"display:inline-block;\"> </div><div style=\"font-size: 10px; display:inline-block; width: 270px; border:1px solid black\">          ./data-images/5831137888001-965.jpg:          <img src=\"./data-images/5831137888001-965.jpg\" style=\"display:inline-block;\"> </div><div style=\"font-size: 10px; display:inline-block; width: 270px; border:1px solid black\">          ./data-images/5833084561001-293.jpg:          <img src=\"./data-images/5833084561001-293.jpg\" style=\"display:inline-block;\"> </div><div style=\"font-size: 10px; display:inline-block; width: 270px; border:1px solid black\">          ./data-images/5833096735001-2176.jpg:          <img src=\"./data-images/5833096735001-2176.jpg\" style=\"display:inline-block;\"> </div><div style=\"font-size: 10px; display:inline-block; width: 270px; border:1px solid black\">          ./data-images/5833084561001-1446.jpg:          <img src=\"./data-images/5833084561001-1446.jpg\" style=\"display:inline-block;\"> </div><div style=\"font-size: 10px; display:inline-block; width: 270px; border:1px solid black\">          ./data-images/5831135399001-1208.jpg:          <img src=\"./data-images/5831135399001-1208.jpg\" style=\"display:inline-block;\"> </div><div style=\"font-size: 10px; display:inline-block; width: 270px; border:1px solid black\">          ./data-images/5831137888001-1862.jpg:          <img src=\"./data-images/5831137888001-1862.jpg\" style=\"display:inline-block;\"> </div><div style=\"font-size: 10px; display:inline-block; width: 270px; border:1px solid black\">          ./data-images/5833096735001-1793.jpg:          <img src=\"./data-images/5833096735001-1793.jpg\" style=\"display:inline-block;\"> </div></div>"
      ],
      "text/plain": [
       "<IPython.core.display.HTML object>"
      ]
     },
     "metadata": {},
     "output_type": "display_data"
    }
   ],
   "source": [
    "display_images(false_negative_images[:20])"
   ]
  },
  {
   "cell_type": "code",
   "execution_count": null,
   "metadata": {},
   "outputs": [],
   "source": []
  }
 ],
 "metadata": {
  "kernelspec": {
   "display_name": "Python [default]",
   "language": "python",
   "name": "python3"
  },
  "language_info": {
   "codemirror_mode": {
    "name": "ipython",
    "version": 3
   },
   "file_extension": ".py",
   "mimetype": "text/x-python",
   "name": "python",
   "nbconvert_exporter": "python",
   "pygments_lexer": "ipython3",
   "version": "3.6.5"
  }
 },
 "nbformat": 4,
 "nbformat_minor": 1
}
