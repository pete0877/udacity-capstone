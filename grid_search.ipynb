{
 "cells": [
  {
   "cell_type": "code",
   "execution_count": 1,
   "metadata": {},
   "outputs": [
    {
     "name": "stderr",
     "output_type": "stream",
     "text": [
      "Using TensorFlow backend.\n",
      "/Library/Frameworks/Python.framework/Versions/3.6/lib/python3.6/importlib/_bootstrap.py:219: RuntimeWarning: compiletime version 3.5 of module 'tensorflow.python.framework.fast_tensor_util' does not match runtime version 3.6\n",
      "  return f(*args, **kwds)\n"
     ]
    }
   ],
   "source": [
    "import datetime\n",
    "import random\n",
    "\n",
    "import numpy as np\n",
    "from keras.layers import Activation\n",
    "from keras.layers import Conv2D, MaxPooling2D, GlobalAveragePooling2D\n",
    "from keras.layers import Dense\n",
    "from keras.layers.normalization import BatchNormalization\n",
    "from keras.models import Sequential, Model\n",
    "from keras.applications.resnet50 import ResNet50\n",
    "from keras.applications import VGG16\n",
    "from keras.applications.inception_v3 import InceptionV3\n",
    "from tqdm import tqdm\n",
    "\n",
    "from common import *"
   ]
  },
  {
   "cell_type": "code",
   "execution_count": 2,
   "metadata": {},
   "outputs": [
    {
     "name": "stdout",
     "output_type": "stream",
     "text": [
      ".. setting base configuration & params ..\n"
     ]
    }
   ],
   "source": [
    "print(\".. setting base configuration & params ..\")\n",
    "\n",
    "initialize()\n",
    "\n",
    "best_model_filepath = './saved-models/achitecture-01.hdf5'\n",
    "training_epochs = 1\n",
    "batch_size = 50\n",
    "images_size = 270\n"
   ]
  },
  {
   "cell_type": "code",
   "execution_count": 3,
   "metadata": {},
   "outputs": [
    {
     "name": "stderr",
     "output_type": "stream",
     "text": [
      "\r",
      "  0%|          | 0/1408 [00:00<?, ?it/s]"
     ]
    },
    {
     "name": "stdout",
     "output_type": "stream",
     "text": [
      ".. loading & splitting data ..\n"
     ]
    },
    {
     "name": "stderr",
     "output_type": "stream",
     "text": [
      "100%|██████████| 1408/1408 [00:18<00:00, 79.72it/s]\n",
      "100%|██████████| 440/440 [00:06<00:00, 69.53it/s]\n",
      "100%|██████████| 352/352 [00:04<00:00, 71.67it/s]\n"
     ]
    }
   ],
   "source": [
    "(train_tensors, X_train, y_train,\n",
    "test_tensors, X_test, y_test, \n",
    "valid_tensors, X_validate, y_validate, \n",
    "duration_loading) = load_and_split_data(images_size=images_size)"
   ]
  },
  {
   "cell_type": "code",
   "execution_count": 5,
   "metadata": {},
   "outputs": [
    {
     "name": "stdout",
     "output_type": "stream",
     "text": [
      ".. training the model ..\n",
      "Train on 1408 samples, validate on 352 samples\n",
      "Epoch 1/1\n",
      "1408/1408 [==============================] - 407s 289ms/step - loss: 0.4190 - acc: 0.7876 - val_loss: 0.5799 - val_acc: 0.6761\n",
      "\n",
      "Epoch 00001: val_loss improved from inf to 0.57987, saving model to ./saved-models/achitecture-01.hdf5\n"
     ]
    }
   ],
   "source": [
    "duration_training = train_single_model(model, \n",
    "                                       best_model_filepath, \n",
    "                                       train_tensors, y_train, \n",
    "                                       valid_tensors, y_validate, \n",
    "                                       training_epochs, \n",
    "                                       batch_size)\n"
   ]
  },
  {
   "cell_type": "code",
   "execution_count": 7,
   "metadata": {},
   "outputs": [
    {
     "name": "stdout",
     "output_type": "stream",
     "text": [
      ".. loading best weights ..\n"
     ]
    }
   ],
   "source": [
    "print(\".. loading best weights ..\")\n",
    "\n",
    "model.load_weights(best_model_filepath)"
   ]
  },
  {
   "cell_type": "code",
   "execution_count": 9,
   "metadata": {},
   "outputs": [],
   "source": [
    "def create_model(optimizer='rmsprop', activation='relu', kernel_size=2):\n",
    "    model = Sequential()\n",
    "\n",
    "    model.add(Conv2D(filters=16, kernel_size=kernel_size, padding='same', \n",
    "                     input_shape=(270, 270, 3), data_format=\"channels_last\"))\n",
    "    model.add(BatchNormalization())\n",
    "    model.add(Activation(activation))\n",
    "    model.add(MaxPooling2D(pool_size=(2, 2)))\n",
    "\n",
    "    model.add(Conv2D(filters=32, kernel_size=kernel_size, padding='same'))\n",
    "    model.add(BatchNormalization())\n",
    "    model.add(Activation(activation))\n",
    "    model.add(MaxPooling2D(pool_size=(2, 2)))\n",
    "\n",
    "    model.add(Conv2D(filters=64, kernel_size=kernel_size, padding='same'))\n",
    "    model.add(BatchNormalization())\n",
    "    model.add(Activation(activation))\n",
    "    model.add(MaxPooling2D(pool_size=(2, 2)))\n",
    "\n",
    "    model.add(GlobalAveragePooling2D())\n",
    "    model.add(Dense(2, activation='softmax'))\n",
    "    \n",
    "    model.compile(optimizer=optimizer, loss='categorical_crossentropy', metrics=['accuracy'])\n",
    "    \n",
    "    return model"
   ]
  },
  {
   "cell_type": "code",
   "execution_count": 10,
   "metadata": {},
   "outputs": [
    {
     "ename": "NameError",
     "evalue": "name 'optimizers' is not defined",
     "output_type": "error",
     "traceback": [
      "\u001b[0;31m---------------------------------------------------------------------------\u001b[0m",
      "\u001b[0;31mNameError\u001b[0m                                 Traceback (most recent call last)",
      "\u001b[0;32m<ipython-input-10-58f6bfbb2723>\u001b[0m in \u001b[0;36m<module>\u001b[0;34m()\u001b[0m\n\u001b[1;32m      1\u001b[0m \u001b[0mmy_classifier\u001b[0m \u001b[0;34m=\u001b[0m \u001b[0mKerasClassifier\u001b[0m\u001b[0;34m(\u001b[0m\u001b[0mbuild_fn\u001b[0m\u001b[0;34m=\u001b[0m\u001b[0mcreate_model\u001b[0m\u001b[0;34m,\u001b[0m \u001b[0mverbose\u001b[0m\u001b[0;34m=\u001b[0m\u001b[0;36m0\u001b[0m\u001b[0;34m)\u001b[0m\u001b[0;34m\u001b[0m\u001b[0m\n\u001b[1;32m      2\u001b[0m \u001b[0;34m\u001b[0m\u001b[0m\n\u001b[0;32m----> 3\u001b[0;31m hyperparameters = dict(optimizer=optimizers, \n\u001b[0m\u001b[1;32m      4\u001b[0m                        \u001b[0mepochs\u001b[0m\u001b[0;34m=\u001b[0m\u001b[0;34m[\u001b[0m\u001b[0;36m5\u001b[0m\u001b[0;34m,\u001b[0m \u001b[0;36m10\u001b[0m\u001b[0;34m]\u001b[0m\u001b[0;34m,\u001b[0m\u001b[0;34m\u001b[0m\u001b[0m\n\u001b[1;32m      5\u001b[0m                        \u001b[0mbatch_size\u001b[0m\u001b[0;34m=\u001b[0m\u001b[0;34m[\u001b[0m\u001b[0;36m5\u001b[0m\u001b[0;34m,\u001b[0m \u001b[0;36m10\u001b[0m\u001b[0;34m,\u001b[0m \u001b[0;36m100\u001b[0m\u001b[0;34m]\u001b[0m\u001b[0;34m,\u001b[0m\u001b[0;34m\u001b[0m\u001b[0m\n",
      "\u001b[0;31mNameError\u001b[0m: name 'optimizers' is not defined"
     ]
    }
   ],
   "source": [
    "my_classifier = KerasClassifier(build_fn=create_model, verbose=0)\n",
    "\n",
    "hyperparameters = dict(optimizer=optimizers, \n",
    "                       epochs=[5, 10], \n",
    "                       batch_size=[5, 10, 100],\n",
    "                       optimizers=['rmsprop', 'adam'],\n",
    "                       activation=['relu', 'sigmoid'],\n",
    "                      )\n",
    "\n",
    "grid = GridSearchCV(estimator=neural_network, param_grid=hyperparameters)"
   ]
  },
  {
   "cell_type": "code",
   "execution_count": null,
   "metadata": {},
   "outputs": [
    {
     "name": "stderr",
     "output_type": "stream",
     "text": [
      "  0%|          | 1/440 [00:00<01:25,  5.12it/s]"
     ]
    },
    {
     "name": "stdout",
     "output_type": "stream",
     "text": [
      ".. testing the model on Test data ..\n"
     ]
    },
    {
     "name": "stderr",
     "output_type": "stream",
     "text": [
      " 31%|███       | 135/440 [00:11<00:25, 11.85it/s]"
     ]
    }
   ],
   "source": [
    "print(\".. testing the model on Test data ..\")\n",
    "section_start_time = datetime.datetime.utcnow()\n",
    "\n",
    "test_data_predictions = [np.argmax(model.predict(np.expand_dims(tensor, axis=0))) for tensor in tqdm(test_tensors)]\n",
    "\n",
    "test_data_predictions_time = (datetime.datetime.utcnow() - section_start_time).total_seconds()"
   ]
  },
  {
   "cell_type": "code",
   "execution_count": 12,
   "metadata": {},
   "outputs": [
    {
     "name": "stderr",
     "output_type": "stream",
     "text": [
      "  0%|          | 1/1408 [00:00<02:44,  8.56it/s]"
     ]
    },
    {
     "name": "stdout",
     "output_type": "stream",
     "text": [
      ".. testing the model on Training data ..\n"
     ]
    },
    {
     "name": "stderr",
     "output_type": "stream",
     "text": [
      "100%|██████████| 1408/1408 [01:53<00:00,  8.83it/s]\n"
     ]
    }
   ],
   "source": [
    "print(\".. testing the model on Training data ..\")\n",
    "section_start_time = datetime.datetime.utcnow()\n",
    "\n",
    "train_data_predictions = [np.argmax(model.predict(np.expand_dims(tensor, axis=0))) for tensor in tqdm(train_tensors)]\n",
    "\n",
    "train_data_predictions_time = (datetime.datetime.utcnow() - section_start_time).total_seconds()"
   ]
  },
  {
   "cell_type": "code",
   "execution_count": 13,
   "metadata": {},
   "outputs": [
    {
     "name": "stderr",
     "output_type": "stream",
     "text": [
      "  0%|          | 1/352 [00:00<00:44,  7.88it/s]"
     ]
    },
    {
     "name": "stdout",
     "output_type": "stream",
     "text": [
      ".. testing the model on Validation data ..\n"
     ]
    },
    {
     "name": "stderr",
     "output_type": "stream",
     "text": [
      "100%|██████████| 352/352 [00:31<00:00, 13.19it/s]\n"
     ]
    }
   ],
   "source": [
    "print(\".. testing the model on Validation data ..\")\n",
    "section_start_time = datetime.datetime.utcnow()\n",
    "\n",
    "validation_data_predictions = [np.argmax(model.predict(np.expand_dims(tensor, axis=0))) for tensor in tqdm(valid_tensors)]\n",
    "\n",
    "validation_data_predictions_time = (datetime.datetime.utcnow() - section_start_time).total_seconds()"
   ]
  },
  {
   "cell_type": "code",
   "execution_count": 20,
   "metadata": {},
   "outputs": [
    {
     "name": "stdout",
     "output_type": "stream",
     "text": [
      "________________________________________________________\n",
      "TIMING SUMMARY:\n",
      "\n",
      "loading duration: 24.0 seconds\n",
      "training duration: 23734.4 seconds\n",
      "________________________________________________________\n",
      "MODEL PERFORMANCE ON TEST DATA:\n",
      "\n",
      "predict duration: 34.3 seconds\n",
      "all:  440\n",
      "all_positives:  81\n",
      "all_negatives:  359\n",
      "true_positives:  73\n",
      "true_negatives:  335\n",
      "false_positives:  24\n",
      "false_negatives:  8\n",
      "RECALL: 0.90\n",
      "SPECIFICITY: 0.93\n",
      "ACCURACY: 0.93\n",
      "PRECISION: 0.75\n",
      "F1 SCORE: 0.82\n",
      "FP RATE / ERROR I: 0.07\n",
      "FN RATE / ERROR II: 0.10\n",
      "________________________________________________________\n",
      "MODEL PERFORMANCE ON TRAIN DATA:\n",
      "\n",
      "predict duration: 113.8 seconds\n",
      "all:  1408\n",
      "all_positives:  316\n",
      "all_negatives:  1092\n",
      "true_positives:  277\n",
      "true_negatives:  1010\n",
      "false_positives:  82\n",
      "false_negatives:  39\n",
      "RECALL: 0.88\n",
      "SPECIFICITY: 0.92\n",
      "ACCURACY: 0.91\n",
      "PRECISION: 0.77\n",
      "F1 SCORE: 0.82\n",
      "FP RATE / ERROR I: 0.08\n",
      "FN RATE / ERROR II: 0.12\n",
      "________________________________________________________\n",
      "MODEL PERFORMANCE ON VALIDATION DATA:\n",
      "\n",
      "predict duration: 31.4 seconds\n",
      "all:  352\n",
      "all_positives:  66\n",
      "all_negatives:  286\n",
      "true_positives:  58\n",
      "true_negatives:  268\n",
      "false_positives:  18\n",
      "false_negatives:  8\n",
      "RECALL: 0.88\n",
      "SPECIFICITY: 0.94\n",
      "ACCURACY: 0.93\n",
      "PRECISION: 0.76\n",
      "F1 SCORE: 0.82\n",
      "FP RATE / ERROR I: 0.06\n",
      "FN RATE / ERROR II: 0.12\n"
     ]
    }
   ],
   "source": [
    "print(\"________________________________________________________\")\n",
    "print(\"TIMING SUMMARY:\\n\")\n",
    "print(\"loading duration: {0:.1f} seconds\".format(duration_loading))\n",
    "print(\"training duration: {0:.1f} seconds\".format(duration_training))\n",
    "\n",
    "print(\"________________________________________________________\")\n",
    "print(\"MODEL PERFORMANCE ON TEST DATA:\\n\")\n",
    "print(\"predict duration: {0:.1f} seconds\".format(test_data_predictions_time))\n",
    "false_positive_images, false_negative_images = summarize_model_performance(X_test, y_test, test_data_predictions)\n",
    "\n",
    "print(\"________________________________________________________\")\n",
    "print(\"MODEL PERFORMANCE ON TRAIN DATA:\\n\")\n",
    "print(\"predict duration: {0:.1f} seconds\".format(train_data_predictions_time))\n",
    "_, _ = summarize_model_performance(X_train, y_train, train_data_predictions)\n",
    "\n",
    "print(\"________________________________________________________\")\n",
    "print(\"MODEL PERFORMANCE ON VALIDATION DATA:\\n\")\n",
    "print(\"predict duration: {0:.1f} seconds\".format(validation_data_predictions_time))\n",
    "_, _ = summarize_model_performance(X_validate, y_validate, validation_data_predictions)"
   ]
  },
  {
   "cell_type": "markdown",
   "metadata": {},
   "source": [
    "## Prior Results\n",
    "\n",
    "After converting the images to grayscale:\n",
    "\n",
    "```\n",
    "________________________________________________________\n",
    "MODEL PERFORMANCE ON TEST DATA:\n",
    "\n",
    "predict duration: 33.6 seconds\n",
    "all:  440\n",
    "all_positives:  81\n",
    "all_negatives:  359\n",
    "true_positives:  56\n",
    "true_negatives:  342\n",
    "false_positives:  17\n",
    "false_negatives:  25\n",
    "RECALL: 0.69\n",
    "SPECIFICITY: 0.95\n",
    "ACCURACY: 0.90\n",
    "PRECISION: 0.77\n",
    "F1 SCORE: 0.73\n",
    "FP RATE / ERROR I: 0.05\n",
    "FN RATE / ERROR II: 0.31\n",
    "________________________________________________________\n",
    "MODEL PERFORMANCE ON TRAIN DATA:\n",
    "\n",
    "predict duration: 104.4 seconds\n",
    "all:  1408\n",
    "all_positives:  316\n",
    "all_negatives:  1092\n",
    "true_positives:  219\n",
    "true_negatives:  1022\n",
    "false_positives:  70\n",
    "false_negatives:  97\n",
    "RECALL: 0.69\n",
    "SPECIFICITY: 0.94\n",
    "ACCURACY: 0.88\n",
    "PRECISION: 0.76\n",
    "F1 SCORE: 0.72\n",
    "FP RATE / ERROR I: 0.06\n",
    "FN RATE / ERROR II: 0.31\n",
    "________________________________________________________\n",
    "MODEL PERFORMANCE ON VALIDATION DATA:\n",
    "\n",
    "predict duration: 24.3 seconds\n",
    "all:  352\n",
    "all_positives:  66\n",
    "all_negatives:  286\n",
    "true_positives:  49\n",
    "true_negatives:  273\n",
    "false_positives:  13\n",
    "false_negatives:  17\n",
    "RECALL: 0.74\n",
    "SPECIFICITY: 0.95\n",
    "ACCURACY: 0.91\n",
    "PRECISION: 0.79\n",
    "F1 SCORE: 0.77\n",
    "FP RATE / ERROR I: 0.05\n",
    "FN RATE / ERROR II: 0.26\n",
    "```\n",
    "\n",
    "The 90_93 model:\n",
    "```\n",
    "________________________________________________________\n",
    "TIMING SUMMARY:\n",
    "\n",
    "loading duration: 24.0 seconds\n",
    "training duration: 23734.4 seconds\n",
    "________________________________________________________\n",
    "MODEL PERFORMANCE ON TEST DATA:\n",
    "\n",
    "predict duration: 34.3 seconds\n",
    "all:  440\n",
    "all_positives:  81\n",
    "all_negatives:  359\n",
    "true_positives:  73\n",
    "true_negatives:  335\n",
    "false_positives:  24\n",
    "false_negatives:  8\n",
    "RECALL: 0.90\n",
    "SPECIFICITY: 0.93\n",
    "ACCURACY: 0.93\n",
    "PRECISION: 0.75\n",
    "F1 SCORE: 0.82\n",
    "FP RATE / ERROR I: 0.07\n",
    "FN RATE / ERROR II: 0.10\n",
    "________________________________________________________\n",
    "MODEL PERFORMANCE ON TRAIN DATA:\n",
    "\n",
    "predict duration: 113.8 seconds\n",
    "all:  1408\n",
    "all_positives:  316\n",
    "all_negatives:  1092\n",
    "true_positives:  277\n",
    "true_negatives:  1010\n",
    "false_positives:  82\n",
    "false_negatives:  39\n",
    "RECALL: 0.88\n",
    "SPECIFICITY: 0.92\n",
    "ACCURACY: 0.91\n",
    "PRECISION: 0.77\n",
    "F1 SCORE: 0.82\n",
    "FP RATE / ERROR I: 0.08\n",
    "FN RATE / ERROR II: 0.12\n",
    "________________________________________________________\n",
    "MODEL PERFORMANCE ON VALIDATION DATA:\n",
    "\n",
    "predict duration: 31.4 seconds\n",
    "all:  352\n",
    "all_positives:  66\n",
    "all_negatives:  286\n",
    "true_positives:  58\n",
    "true_negatives:  268\n",
    "false_positives:  18\n",
    "false_negatives:  8\n",
    "RECALL: 0.88\n",
    "SPECIFICITY: 0.94\n",
    "ACCURACY: 0.93\n",
    "PRECISION: 0.76\n",
    "F1 SCORE: 0.82\n",
    "FP RATE / ERROR I: 0.06\n",
    "FN RATE / ERROR II: 0.12\n",
    "```"
   ]
  },
  {
   "cell_type": "markdown",
   "metadata": {},
   "source": [
    "## False Positives (first 20):"
   ]
  },
  {
   "cell_type": "code",
   "execution_count": 21,
   "metadata": {},
   "outputs": [
    {
     "data": {
      "text/html": [
       "<div width='100%'><div style=\"font-size: 10px; display:inline-block; width: 270px; border:1px solid black\">         ./data-images/5833084561001-1110.jpg:         <img src=\"./data-images/5833084561001-1110.jpg\" style=\"display:inline-block;\"> </div><div style=\"font-size: 10px; display:inline-block; width: 270px; border:1px solid black\">         ./data-images/5831139883001-1822.jpg:         <img src=\"./data-images/5831139883001-1822.jpg\" style=\"display:inline-block;\"> </div><div style=\"font-size: 10px; display:inline-block; width: 270px; border:1px solid black\">         ./data-images/5831139886001-424.jpg:         <img src=\"./data-images/5831139886001-424.jpg\" style=\"display:inline-block;\"> </div><div style=\"font-size: 10px; display:inline-block; width: 270px; border:1px solid black\">         ./data-images/5833090951001-695.jpg:         <img src=\"./data-images/5833090951001-695.jpg\" style=\"display:inline-block;\"> </div><div style=\"font-size: 10px; display:inline-block; width: 270px; border:1px solid black\">         ./data-images/5831138798001-266.jpg:         <img src=\"./data-images/5831138798001-266.jpg\" style=\"display:inline-block;\"> </div><div style=\"font-size: 10px; display:inline-block; width: 270px; border:1px solid black\">         ./data-images/5831138798001-1657.jpg:         <img src=\"./data-images/5831138798001-1657.jpg\" style=\"display:inline-block;\"> </div><div style=\"font-size: 10px; display:inline-block; width: 270px; border:1px solid black\">         ./data-images/5831138798001-42.jpg:         <img src=\"./data-images/5831138798001-42.jpg\" style=\"display:inline-block;\"> </div><div style=\"font-size: 10px; display:inline-block; width: 270px; border:1px solid black\">         ./data-images/5833096735001-762.jpg:         <img src=\"./data-images/5833096735001-762.jpg\" style=\"display:inline-block;\"> </div><div style=\"font-size: 10px; display:inline-block; width: 270px; border:1px solid black\">         ./data-images/5831139883001-466.jpg:         <img src=\"./data-images/5831139883001-466.jpg\" style=\"display:inline-block;\"> </div><div style=\"font-size: 10px; display:inline-block; width: 270px; border:1px solid black\">         ./data-images/5831139883001-314.jpg:         <img src=\"./data-images/5831139883001-314.jpg\" style=\"display:inline-block;\"> </div><div style=\"font-size: 10px; display:inline-block; width: 270px; border:1px solid black\">         ./data-images/5831135989001-660.jpg:         <img src=\"./data-images/5831135989001-660.jpg\" style=\"display:inline-block;\"> </div><div style=\"font-size: 10px; display:inline-block; width: 270px; border:1px solid black\">         ./data-images/5833078851001-2231.jpg:         <img src=\"./data-images/5833078851001-2231.jpg\" style=\"display:inline-block;\"> </div><div style=\"font-size: 10px; display:inline-block; width: 270px; border:1px solid black\">         ./data-images/5833096735001-225.jpg:         <img src=\"./data-images/5833096735001-225.jpg\" style=\"display:inline-block;\"> </div><div style=\"font-size: 10px; display:inline-block; width: 270px; border:1px solid black\">         ./data-images/5831137888001-160.jpg:         <img src=\"./data-images/5831137888001-160.jpg\" style=\"display:inline-block;\"> </div><div style=\"font-size: 10px; display:inline-block; width: 270px; border:1px solid black\">         ./data-images/5831138798001-512.jpg:         <img src=\"./data-images/5831138798001-512.jpg\" style=\"display:inline-block;\"> </div><div style=\"font-size: 10px; display:inline-block; width: 270px; border:1px solid black\">         ./data-images/5833084561001-1734.jpg:         <img src=\"./data-images/5833084561001-1734.jpg\" style=\"display:inline-block;\"> </div><div style=\"font-size: 10px; display:inline-block; width: 270px; border:1px solid black\">         ./data-images/5831135989001-2442.jpg:         <img src=\"./data-images/5831135989001-2442.jpg\" style=\"display:inline-block;\"> </div><div style=\"font-size: 10px; display:inline-block; width: 270px; border:1px solid black\">         ./data-images/5831138807001-1266.jpg:         <img src=\"./data-images/5831138807001-1266.jpg\" style=\"display:inline-block;\"> </div><div style=\"font-size: 10px; display:inline-block; width: 270px; border:1px solid black\">         ./data-images/5833078851001-801.jpg:         <img src=\"./data-images/5833078851001-801.jpg\" style=\"display:inline-block;\"> </div><div style=\"font-size: 10px; display:inline-block; width: 270px; border:1px solid black\">         ./data-images/5831139886001-1272.jpg:         <img src=\"./data-images/5831139886001-1272.jpg\" style=\"display:inline-block;\"> </div></div>"
      ],
      "text/plain": [
       "<IPython.core.display.HTML object>"
      ]
     },
     "metadata": {},
     "output_type": "display_data"
    }
   ],
   "source": [
    "display_images(false_positive_images[:20])"
   ]
  },
  {
   "cell_type": "markdown",
   "metadata": {},
   "source": [
    "## False Negatives (first 20):"
   ]
  },
  {
   "cell_type": "code",
   "execution_count": 22,
   "metadata": {
    "scrolled": false
   },
   "outputs": [
    {
     "data": {
      "text/html": [
       "<div width='100%'><div style=\"font-size: 10px; display:inline-block; width: 270px; border:1px solid black\">         ./data-images/5833084561001-1271.jpg:         <img src=\"./data-images/5833084561001-1271.jpg\" style=\"display:inline-block;\"> </div><div style=\"font-size: 10px; display:inline-block; width: 270px; border:1px solid black\">         ./data-images/5831135399001-2241.jpg:         <img src=\"./data-images/5831135399001-2241.jpg\" style=\"display:inline-block;\"> </div><div style=\"font-size: 10px; display:inline-block; width: 270px; border:1px solid black\">         ./data-images/5831137888001-965.jpg:         <img src=\"./data-images/5831137888001-965.jpg\" style=\"display:inline-block;\"> </div><div style=\"font-size: 10px; display:inline-block; width: 270px; border:1px solid black\">         ./data-images/5833084561001-293.jpg:         <img src=\"./data-images/5833084561001-293.jpg\" style=\"display:inline-block;\"> </div><div style=\"font-size: 10px; display:inline-block; width: 270px; border:1px solid black\">         ./data-images/5833096735001-2176.jpg:         <img src=\"./data-images/5833096735001-2176.jpg\" style=\"display:inline-block;\"> </div><div style=\"font-size: 10px; display:inline-block; width: 270px; border:1px solid black\">         ./data-images/5833084561001-1446.jpg:         <img src=\"./data-images/5833084561001-1446.jpg\" style=\"display:inline-block;\"> </div><div style=\"font-size: 10px; display:inline-block; width: 270px; border:1px solid black\">         ./data-images/5831137888001-1862.jpg:         <img src=\"./data-images/5831137888001-1862.jpg\" style=\"display:inline-block;\"> </div><div style=\"font-size: 10px; display:inline-block; width: 270px; border:1px solid black\">         ./data-images/5833096735001-1793.jpg:         <img src=\"./data-images/5833096735001-1793.jpg\" style=\"display:inline-block;\"> </div></div>"
      ],
      "text/plain": [
       "<IPython.core.display.HTML object>"
      ]
     },
     "metadata": {},
     "output_type": "display_data"
    }
   ],
   "source": [
    "display_images(false_negative_images[:20])"
   ]
  },
  {
   "cell_type": "code",
   "execution_count": null,
   "metadata": {},
   "outputs": [],
   "source": []
  }
 ],
 "metadata": {
  "kernelspec": {
   "display_name": "Python 3",
   "language": "python",
   "name": "python3"
  },
  "language_info": {
   "codemirror_mode": {
    "name": "ipython",
    "version": 3
   },
   "file_extension": ".py",
   "mimetype": "text/x-python",
   "name": "python",
   "nbconvert_exporter": "python",
   "pygments_lexer": "ipython3",
   "version": "3.6.4"
  }
 },
 "nbformat": 4,
 "nbformat_minor": 1
}
