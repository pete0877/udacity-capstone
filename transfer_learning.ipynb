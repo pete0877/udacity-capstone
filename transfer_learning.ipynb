{
 "cells": [
  {
   "cell_type": "code",
   "execution_count": 1,
   "metadata": {},
   "outputs": [
    {
     "name": "stderr",
     "output_type": "stream",
     "text": [
      "Using TensorFlow backend.\n"
     ]
    }
   ],
   "source": [
    "import datetime\n",
    "import random\n",
    "\n",
    "import numpy as np\n",
    "from keras.layers import Activation\n",
    "from keras.layers import Conv2D, MaxPooling2D, GlobalAveragePooling2D\n",
    "from keras.layers import Dense\n",
    "from keras.layers.normalization import BatchNormalization\n",
    "from keras.models import Sequential, Model\n",
    "from keras.applications.resnet50 import ResNet50\n",
    "from keras.applications import VGG16\n",
    "from keras.applications.inception_v3 import InceptionV3\n",
    "from tqdm import tqdm\n",
    "\n",
    "from common import *"
   ]
  },
  {
   "cell_type": "code",
   "execution_count": 2,
   "metadata": {},
   "outputs": [
    {
     "name": "stdout",
     "output_type": "stream",
     "text": [
      ".. setting base configuration & params ..\n"
     ]
    }
   ],
   "source": [
    "print(\".. setting base configuration & params ..\")\n",
    "\n",
    "initialize()\n",
    "\n",
    "best_model_filepath = './saved-models/transfer_learning.hdf5'\n",
    "training_epochs = 50\n",
    "batch_size = 20\n",
    "images_size = 224"
   ]
  },
  {
   "cell_type": "code",
   "execution_count": 3,
   "metadata": {},
   "outputs": [
    {
     "name": "stderr",
     "output_type": "stream",
     "text": [
      "  2%|▏         | 31/1408 [00:00<00:04, 306.37it/s]"
     ]
    },
    {
     "name": "stdout",
     "output_type": "stream",
     "text": [
      ".. loading & splitting data ..\n"
     ]
    },
    {
     "name": "stderr",
     "output_type": "stream",
     "text": [
      "100%|██████████| 1408/1408 [00:03<00:00, 352.03it/s]\n",
      "100%|██████████| 440/440 [00:01<00:00, 407.22it/s]\n",
      "100%|██████████| 352/352 [00:01<00:00, 314.97it/s]\n"
     ]
    }
   ],
   "source": [
    "(train_tensors, X_train, y_train,\n",
    "test_tensors, X_test, y_test, \n",
    "valid_tensors, X_validate, y_validate, \n",
    "duration_loading) = load_and_split_data(images_size=images_size)"
   ]
  },
  {
   "cell_type": "code",
   "execution_count": 4,
   "metadata": {},
   "outputs": [],
   "source": [
    "# external_model = InceptionV3(weights='imagenet', include_top=False)\n",
    "# external_model = ResNet50(weights='imagenet', include_top=False)\n",
    "external_model = VGG16(weights='imagenet', include_top=False, input_shape=(224, 224, 3))"
   ]
  },
  {
   "cell_type": "code",
   "execution_count": 5,
   "metadata": {},
   "outputs": [
    {
     "name": "stdout",
     "output_type": "stream",
     "text": [
      ".. constructing the transfer model ..\n",
      "_________________________________________________________________\n",
      "Layer (type)                 Output Shape              Param #   \n",
      "=================================================================\n",
      "input_1 (InputLayer)         (None, 224, 224, 3)       0         \n",
      "_________________________________________________________________\n",
      "block1_conv1 (Conv2D)        (None, 224, 224, 64)      1792      \n",
      "_________________________________________________________________\n",
      "block1_conv2 (Conv2D)        (None, 224, 224, 64)      36928     \n",
      "_________________________________________________________________\n",
      "block1_pool (MaxPooling2D)   (None, 112, 112, 64)      0         \n",
      "_________________________________________________________________\n",
      "block2_conv1 (Conv2D)        (None, 112, 112, 128)     73856     \n",
      "_________________________________________________________________\n",
      "block2_conv2 (Conv2D)        (None, 112, 112, 128)     147584    \n",
      "_________________________________________________________________\n",
      "block2_pool (MaxPooling2D)   (None, 56, 56, 128)       0         \n",
      "_________________________________________________________________\n",
      "conv2d_1 (Conv2D)            (None, 56, 56, 128)       65664     \n",
      "_________________________________________________________________\n",
      "batch_normalization_1 (Batch (None, 56, 56, 128)       512       \n",
      "_________________________________________________________________\n",
      "activation_1 (Activation)    (None, 56, 56, 128)       0         \n",
      "_________________________________________________________________\n",
      "max_pooling2d_1 (MaxPooling2 (None, 28, 28, 128)       0         \n",
      "_________________________________________________________________\n",
      "global_average_pooling2d_1 ( (None, 128)               0         \n",
      "_________________________________________________________________\n",
      "dense_1 (Dense)              (None, 2)                 258       \n",
      "=================================================================\n",
      "Total params: 326,594\n",
      "Trainable params: 66,178\n",
      "Non-trainable params: 260,416\n",
      "_________________________________________________________________\n"
     ]
    },
    {
     "name": "stderr",
     "output_type": "stream",
     "text": [
      "/home/ec2-user/anaconda3/envs/tensorflow_p36/lib/python3.6/site-packages/ipykernel/__main__.py:14: UserWarning: Update your `Model` call to the Keras 2 API: `Model(inputs=Tensor(\"in..., outputs=Tensor(\"de...)`\n"
     ]
    }
   ],
   "source": [
    "print(\".. constructing the transfer model ..\")\n",
    "\n",
    "for layer in external_model.layers:\n",
    "    layer.trainable = False\n",
    "\n",
    "temp = Conv2D(filters=128, kernel_size=2, padding='same')(external_model.layers[-13].output)\n",
    "\n",
    "temp = BatchNormalization()(temp)\n",
    "temp = Activation('relu')(temp)\n",
    "temp = MaxPooling2D(pool_size=(2, 2))(temp)\n",
    "temp = GlobalAveragePooling2D()(temp)\n",
    "predictions = Dense(2, activation='softmax')(temp)\n",
    "\n",
    "model = Model(input=external_model.input, output=predictions)\n",
    "\n",
    "model.summary()    \n",
    "\n",
    "model.compile(optimizer='rmsprop', loss='categorical_crossentropy', metrics=['accuracy'])\n",
    "    "
   ]
  },
  {
   "cell_type": "code",
   "execution_count": 6,
   "metadata": {},
   "outputs": [
    {
     "name": "stdout",
     "output_type": "stream",
     "text": [
      ".. training the model ..\n",
      "Train on 1408 samples, validate on 352 samples\n",
      "Epoch 1/50\n",
      "1408/1408 [==============================] - 673s 478ms/step - loss: 0.3401 - acc: 0.8409 - val_loss: 0.3514 - val_acc: 0.8778\n",
      "\n",
      "Epoch 00001: val_loss improved from inf to 0.35137, saving model to ./saved-models/transfer_learning.hdf5\n",
      "Epoch 2/50\n",
      "1408/1408 [==============================] - 677s 481ms/step - loss: 0.2705 - acc: 0.8665 - val_loss: 0.2982 - val_acc: 0.8977\n",
      "\n",
      "Epoch 00002: val_loss improved from 0.35137 to 0.29820, saving model to ./saved-models/transfer_learning.hdf5\n",
      "Epoch 3/50\n",
      "1408/1408 [==============================] - 681s 484ms/step - loss: 0.2552 - acc: 0.8786 - val_loss: 0.1771 - val_acc: 0.9233\n",
      "\n",
      "Epoch 00003: val_loss improved from 0.29820 to 0.17715, saving model to ./saved-models/transfer_learning.hdf5\n",
      "Epoch 4/50\n",
      "1408/1408 [==============================] - 683s 485ms/step - loss: 0.2418 - acc: 0.8899 - val_loss: 0.3148 - val_acc: 0.8864\n",
      "\n",
      "Epoch 00004: val_loss did not improve from 0.17715\n",
      "Epoch 5/50\n",
      "1408/1408 [==============================] - 686s 487ms/step - loss: 0.2374 - acc: 0.8864 - val_loss: 0.1677 - val_acc: 0.9290\n",
      "\n",
      "Epoch 00005: val_loss improved from 0.17715 to 0.16771, saving model to ./saved-models/transfer_learning.hdf5\n",
      "Epoch 6/50\n",
      "1408/1408 [==============================] - 675s 479ms/step - loss: 0.2401 - acc: 0.8849 - val_loss: 1.6458 - val_acc: 0.3750\n",
      "\n",
      "Epoch 00006: val_loss did not improve from 0.16771\n",
      "Epoch 7/50\n",
      "1408/1408 [==============================] - 684s 486ms/step - loss: 0.2203 - acc: 0.9013 - val_loss: 0.1703 - val_acc: 0.9318\n",
      "\n",
      "Epoch 00007: val_loss did not improve from 0.16771\n",
      "Epoch 8/50\n",
      "1408/1408 [==============================] - 731s 519ms/step - loss: 0.2210 - acc: 0.8928 - val_loss: 1.1648 - val_acc: 0.4858\n",
      "\n",
      "Epoch 00008: val_loss did not improve from 0.16771\n",
      "Epoch 9/50\n",
      "1408/1408 [==============================] - 1016s 722ms/step - loss: 0.2249 - acc: 0.8935 - val_loss: 0.1968 - val_acc: 0.8920\n",
      "\n",
      "Epoch 00009: val_loss did not improve from 0.16771\n",
      "Epoch 10/50\n",
      "1408/1408 [==============================] - 1009s 717ms/step - loss: 0.2102 - acc: 0.9027 - val_loss: 0.2633 - val_acc: 0.9062\n",
      "\n",
      "Epoch 00010: val_loss did not improve from 0.16771\n",
      "Epoch 11/50\n",
      "1408/1408 [==============================] - 1026s 729ms/step - loss: 0.2183 - acc: 0.8956 - val_loss: 0.5881 - val_acc: 0.8125\n",
      "\n",
      "Epoch 00011: val_loss did not improve from 0.16771\n",
      "Epoch 12/50\n",
      "1408/1408 [==============================] - 1019s 724ms/step - loss: 0.2194 - acc: 0.8984 - val_loss: 0.1818 - val_acc: 0.8949\n",
      "\n",
      "Epoch 00012: val_loss did not improve from 0.16771\n",
      "Epoch 13/50\n",
      "1408/1408 [==============================] - 1020s 725ms/step - loss: 0.2112 - acc: 0.9062 - val_loss: 0.6431 - val_acc: 0.7670\n",
      "\n",
      "Epoch 00013: val_loss did not improve from 0.16771\n",
      "Epoch 14/50\n",
      "1408/1408 [==============================] - 1013s 719ms/step - loss: 0.2123 - acc: 0.8928 - val_loss: 0.2523 - val_acc: 0.9119\n",
      "\n",
      "Epoch 00014: val_loss did not improve from 0.16771\n",
      "Epoch 15/50\n",
      "1408/1408 [==============================] - 1029s 731ms/step - loss: 0.1927 - acc: 0.9141 - val_loss: 0.2568 - val_acc: 0.8580\n",
      "\n",
      "Epoch 00015: val_loss did not improve from 0.16771\n",
      "Epoch 16/50\n",
      "1408/1408 [==============================] - 1019s 723ms/step - loss: 0.1991 - acc: 0.9055 - val_loss: 0.2415 - val_acc: 0.8693\n",
      "\n",
      "Epoch 00016: val_loss did not improve from 0.16771\n",
      "Epoch 17/50\n",
      "1408/1408 [==============================] - 1023s 727ms/step - loss: 0.2071 - acc: 0.9084 - val_loss: 0.4188 - val_acc: 0.8580\n",
      "\n",
      "Epoch 00017: val_loss did not improve from 0.16771\n",
      "Epoch 18/50\n",
      "1408/1408 [==============================] - 1018s 723ms/step - loss: 0.1981 - acc: 0.9112 - val_loss: 0.1576 - val_acc: 0.9347\n",
      "\n",
      "Epoch 00018: val_loss improved from 0.16771 to 0.15758, saving model to ./saved-models/transfer_learning.hdf5\n",
      "Epoch 19/50\n",
      "1408/1408 [==============================] - 1032s 733ms/step - loss: 0.1999 - acc: 0.9055 - val_loss: 0.3396 - val_acc: 0.8722\n",
      "\n",
      "Epoch 00019: val_loss did not improve from 0.15758\n",
      "Epoch 20/50\n",
      "1408/1408 [==============================] - 1026s 729ms/step - loss: 0.1941 - acc: 0.9119 - val_loss: 0.7810 - val_acc: 0.8125\n",
      "\n",
      "Epoch 00020: val_loss did not improve from 0.15758\n",
      "Epoch 21/50\n",
      "1408/1408 [==============================] - 1011s 718ms/step - loss: 0.1890 - acc: 0.9190 - val_loss: 0.1552 - val_acc: 0.9375\n",
      "\n",
      "Epoch 00021: val_loss improved from 0.15758 to 0.15520, saving model to ./saved-models/transfer_learning.hdf5\n",
      "Epoch 22/50\n",
      "1408/1408 [==============================] - 1025s 728ms/step - loss: 0.1982 - acc: 0.9134 - val_loss: 0.5138 - val_acc: 0.8153\n",
      "\n",
      "Epoch 00022: val_loss did not improve from 0.15520\n",
      "Epoch 23/50\n",
      "1408/1408 [==============================] - 1032s 733ms/step - loss: 0.1910 - acc: 0.9176 - val_loss: 0.4460 - val_acc: 0.8125\n",
      "\n",
      "Epoch 00023: val_loss did not improve from 0.15520\n",
      "Epoch 24/50\n",
      "1408/1408 [==============================] - 1009s 717ms/step - loss: 0.1897 - acc: 0.9077 - val_loss: 0.9260 - val_acc: 0.7017\n",
      "\n",
      "Epoch 00024: val_loss did not improve from 0.15520\n",
      "Epoch 25/50\n",
      "1408/1408 [==============================] - 1029s 731ms/step - loss: 0.1899 - acc: 0.9190 - val_loss: 0.1464 - val_acc: 0.9375\n",
      "\n",
      "Epoch 00025: val_loss improved from 0.15520 to 0.14635, saving model to ./saved-models/transfer_learning.hdf5\n",
      "Epoch 26/50\n",
      "1408/1408 [==============================] - 1021s 725ms/step - loss: 0.1853 - acc: 0.9084 - val_loss: 1.2444 - val_acc: 0.6193\n",
      "\n",
      "Epoch 00026: val_loss did not improve from 0.14635\n",
      "Epoch 27/50\n",
      "1408/1408 [==============================] - 1029s 731ms/step - loss: 0.1815 - acc: 0.9183 - val_loss: 0.2046 - val_acc: 0.8778\n",
      "\n",
      "Epoch 00027: val_loss did not improve from 0.14635\n",
      "Epoch 28/50\n",
      "1408/1408 [==============================] - 1015s 721ms/step - loss: 0.1884 - acc: 0.9134 - val_loss: 0.4620 - val_acc: 0.8210\n",
      "\n",
      "Epoch 00028: val_loss did not improve from 0.14635\n",
      "Epoch 29/50\n",
      "1408/1408 [==============================] - 1030s 731ms/step - loss: 0.1811 - acc: 0.9233 - val_loss: 0.2110 - val_acc: 0.9176\n",
      "\n",
      "Epoch 00029: val_loss did not improve from 0.14635\n",
      "Epoch 30/50\n",
      "1408/1408 [==============================] - 1034s 734ms/step - loss: 0.1900 - acc: 0.9183 - val_loss: 0.4481 - val_acc: 0.8182\n",
      "\n",
      "Epoch 00030: val_loss did not improve from 0.14635\n",
      "Epoch 31/50\n",
      "1408/1408 [==============================] - 1006s 715ms/step - loss: 0.1841 - acc: 0.9212 - val_loss: 0.3209 - val_acc: 0.8920\n",
      "\n",
      "Epoch 00031: val_loss did not improve from 0.14635\n",
      "Epoch 32/50\n",
      "1408/1408 [==============================] - 1033s 734ms/step - loss: 0.1890 - acc: 0.9190 - val_loss: 0.6350 - val_acc: 0.7784\n",
      "\n",
      "Epoch 00032: val_loss did not improve from 0.14635\n",
      "Epoch 33/50\n",
      "1408/1408 [==============================] - 1025s 728ms/step - loss: 0.1778 - acc: 0.9219 - val_loss: 0.4466 - val_acc: 0.8523\n",
      "\n",
      "Epoch 00033: val_loss did not improve from 0.14635\n",
      "Epoch 34/50\n",
      "1408/1408 [==============================] - 971s 690ms/step - loss: 0.1739 - acc: 0.9219 - val_loss: 0.1433 - val_acc: 0.9318\n",
      "\n",
      "Epoch 00034: val_loss improved from 0.14635 to 0.14332, saving model to ./saved-models/transfer_learning.hdf5\n",
      "Epoch 35/50\n",
      "1408/1408 [==============================] - 717s 510ms/step - loss: 0.1709 - acc: 0.9183 - val_loss: 0.1897 - val_acc: 0.9261\n",
      "\n",
      "Epoch 00035: val_loss did not improve from 0.14332\n",
      "Epoch 36/50\n",
      "1408/1408 [==============================] - 720s 511ms/step - loss: 0.1690 - acc: 0.9290 - val_loss: 0.3841 - val_acc: 0.8239\n",
      "\n",
      "Epoch 00036: val_loss did not improve from 0.14332\n",
      "Epoch 37/50\n",
      "1408/1408 [==============================] - 694s 493ms/step - loss: 0.1655 - acc: 0.9297 - val_loss: 0.5211 - val_acc: 0.8125\n",
      "\n",
      "Epoch 00037: val_loss did not improve from 0.14332\n",
      "Epoch 38/50\n",
      "1408/1408 [==============================] - 719s 511ms/step - loss: 0.1681 - acc: 0.9226 - val_loss: 2.6493 - val_acc: 0.3097\n",
      "\n",
      "Epoch 00038: val_loss did not improve from 0.14332\n",
      "Epoch 39/50\n",
      "1408/1408 [==============================] - 720s 511ms/step - loss: 0.1753 - acc: 0.9190 - val_loss: 0.1647 - val_acc: 0.9148\n",
      "\n",
      "Epoch 00039: val_loss did not improve from 0.14332\n",
      "Epoch 40/50\n",
      "1408/1408 [==============================] - 693s 492ms/step - loss: 0.1714 - acc: 0.9276 - val_loss: 0.3390 - val_acc: 0.8352\n",
      "\n",
      "Epoch 00040: val_loss did not improve from 0.14332\n",
      "Epoch 41/50\n"
     ]
    },
    {
     "name": "stdout",
     "output_type": "stream",
     "text": [
      "1408/1408 [==============================] - 721s 512ms/step - loss: 0.1687 - acc: 0.9219 - val_loss: 0.7838 - val_acc: 0.8125\n",
      "\n",
      "Epoch 00041: val_loss did not improve from 0.14332\n",
      "Epoch 42/50\n",
      "1408/1408 [==============================] - 722s 513ms/step - loss: 0.1674 - acc: 0.9261 - val_loss: 0.2506 - val_acc: 0.8665\n",
      "\n",
      "Epoch 00042: val_loss did not improve from 0.14332\n",
      "Epoch 43/50\n",
      "1408/1408 [==============================] - 699s 497ms/step - loss: 0.1652 - acc: 0.9254 - val_loss: 0.2539 - val_acc: 0.8608\n",
      "\n",
      "Epoch 00043: val_loss did not improve from 0.14332\n",
      "Epoch 44/50\n",
      "1408/1408 [==============================] - 719s 510ms/step - loss: 0.1715 - acc: 0.9183 - val_loss: 0.4667 - val_acc: 0.8182\n",
      "\n",
      "Epoch 00044: val_loss did not improve from 0.14332\n",
      "Epoch 45/50\n",
      "1408/1408 [==============================] - 700s 497ms/step - loss: 0.1736 - acc: 0.9226 - val_loss: 0.2341 - val_acc: 0.8608\n",
      "\n",
      "Epoch 00045: val_loss did not improve from 0.14332\n",
      "Epoch 46/50\n",
      "1408/1408 [==============================] - 728s 517ms/step - loss: 0.1649 - acc: 0.9311 - val_loss: 0.2456 - val_acc: 0.8665\n",
      "\n",
      "Epoch 00046: val_loss did not improve from 0.14332\n",
      "Epoch 47/50\n",
      "1408/1408 [==============================] - 728s 517ms/step - loss: 0.1575 - acc: 0.9283 - val_loss: 0.2851 - val_acc: 0.8438\n",
      "\n",
      "Epoch 00047: val_loss did not improve from 0.14332\n",
      "Epoch 48/50\n",
      "1408/1408 [==============================] - 702s 498ms/step - loss: 0.1553 - acc: 0.9347 - val_loss: 0.1952 - val_acc: 0.8949\n",
      "\n",
      "Epoch 00048: val_loss did not improve from 0.14332\n",
      "Epoch 49/50\n",
      "1408/1408 [==============================] - 723s 513ms/step - loss: 0.1592 - acc: 0.9347 - val_loss: 0.2505 - val_acc: 0.9091\n",
      "\n",
      "Epoch 00049: val_loss did not improve from 0.14332\n",
      "Epoch 50/50\n",
      "1408/1408 [==============================] - 703s 499ms/step - loss: 0.1623 - acc: 0.9254 - val_loss: 0.1990 - val_acc: 0.9261\n",
      "\n",
      "Epoch 00050: val_loss did not improve from 0.14332\n"
     ]
    }
   ],
   "source": [
    "duration_training = train_single_model(model, \n",
    "                                       best_model_filepath, \n",
    "                                       train_tensors, y_train, \n",
    "                                       valid_tensors, y_validate, \n",
    "                                       training_epochs, \n",
    "                                       batch_size)\n"
   ]
  },
  {
   "cell_type": "code",
   "execution_count": 7,
   "metadata": {},
   "outputs": [
    {
     "name": "stdout",
     "output_type": "stream",
     "text": [
      ".. loading best weights ..\n"
     ]
    }
   ],
   "source": [
    "print(\".. loading best weights ..\")\n",
    "\n",
    "model.load_weights(best_model_filepath)"
   ]
  },
  {
   "cell_type": "code",
   "execution_count": 8,
   "metadata": {},
   "outputs": [
    {
     "name": "stderr",
     "output_type": "stream",
     "text": [
      "\r",
      "  0%|          | 0/440 [00:00<?, ?it/s]"
     ]
    },
    {
     "name": "stdout",
     "output_type": "stream",
     "text": [
      ".. testing the model on Test data ..\n"
     ]
    },
    {
     "name": "stderr",
     "output_type": "stream",
     "text": [
      "100%|██████████| 440/440 [03:08<00:00,  2.32it/s]\n"
     ]
    }
   ],
   "source": [
    "print(\".. testing the model on Test data ..\")\n",
    "section_start_time = datetime.datetime.utcnow()\n",
    "\n",
    "test_data_predictions = [np.argmax(model.predict(np.expand_dims(tensor, axis=0))) for tensor in tqdm(test_tensors)]\n",
    "\n",
    "test_data_predictions_time = (datetime.datetime.utcnow() - section_start_time).total_seconds()"
   ]
  },
  {
   "cell_type": "code",
   "execution_count": 9,
   "metadata": {},
   "outputs": [
    {
     "name": "stderr",
     "output_type": "stream",
     "text": [
      "\r",
      "  0%|          | 0/1408 [00:00<?, ?it/s]"
     ]
    },
    {
     "name": "stdout",
     "output_type": "stream",
     "text": [
      ".. testing the model on Training data ..\n"
     ]
    },
    {
     "name": "stderr",
     "output_type": "stream",
     "text": [
      "100%|██████████| 1408/1408 [09:06<00:00,  2.68it/s]\n"
     ]
    }
   ],
   "source": [
    "print(\".. testing the model on Training data ..\")\n",
    "section_start_time = datetime.datetime.utcnow()\n",
    "\n",
    "train_data_predictions = [np.argmax(model.predict(np.expand_dims(tensor, axis=0))) for tensor in tqdm(train_tensors)]\n",
    "\n",
    "train_data_predictions_time = (datetime.datetime.utcnow() - section_start_time).total_seconds()"
   ]
  },
  {
   "cell_type": "code",
   "execution_count": 10,
   "metadata": {},
   "outputs": [
    {
     "name": "stderr",
     "output_type": "stream",
     "text": [
      "\r",
      "  0%|          | 0/352 [00:00<?, ?it/s]"
     ]
    },
    {
     "name": "stdout",
     "output_type": "stream",
     "text": [
      ".. testing the model on Validation data ..\n"
     ]
    },
    {
     "name": "stderr",
     "output_type": "stream",
     "text": [
      "100%|██████████| 352/352 [02:19<00:00,  2.83it/s]\n"
     ]
    }
   ],
   "source": [
    "print(\".. testing the model on Validation data ..\")\n",
    "section_start_time = datetime.datetime.utcnow()\n",
    "\n",
    "validation_data_predictions = [np.argmax(model.predict(np.expand_dims(tensor, axis=0))) for tensor in tqdm(valid_tensors)]\n",
    "\n",
    "validation_data_predictions_time = (datetime.datetime.utcnow() - section_start_time).total_seconds()"
   ]
  },
  {
   "cell_type": "code",
   "execution_count": 11,
   "metadata": {},
   "outputs": [
    {
     "name": "stdout",
     "output_type": "stream",
     "text": [
      "________________________________________________________\n",
      "TIMING SUMMARY:\n",
      "\n",
      "loading duration: 8.5 seconds\n",
      "training duration: 43418.8 seconds\n",
      "________________________________________________________\n",
      "MODEL PERFORMANCE ON TEST DATA:\n",
      "\n",
      "predict duration: 188.8 seconds\n",
      "all:  440\n",
      "all_positives:  81\n",
      "all_negatives:  359\n",
      "true_positives:  79\n",
      "true_negatives:  340\n",
      "false_positives:  19\n",
      "false_negatives:  2\n",
      "RECALL: 0.98\n",
      "SPECIFICITY: 0.95\n",
      "ACCURACY: 0.95\n",
      "PRECISION: 0.81\n",
      "F1 SCORE: 0.88\n",
      "FP RATE / ERROR I: 0.05\n",
      "FN RATE / ERROR II: 0.02\n",
      "________________________________________________________\n",
      "MODEL PERFORMANCE ON TRAIN DATA:\n",
      "\n",
      "predict duration: 546.3 seconds\n",
      "all:  1408\n",
      "all_positives:  316\n",
      "all_negatives:  1092\n",
      "true_positives:  298\n",
      "true_negatives:  1018\n",
      "false_positives:  74\n",
      "false_negatives:  18\n",
      "RECALL: 0.94\n",
      "SPECIFICITY: 0.93\n",
      "ACCURACY: 0.93\n",
      "PRECISION: 0.80\n",
      "F1 SCORE: 0.87\n",
      "FP RATE / ERROR I: 0.07\n",
      "FN RATE / ERROR II: 0.06\n",
      "________________________________________________________\n",
      "MODEL PERFORMANCE ON VALIDATION DATA:\n",
      "\n",
      "predict duration: 139.3 seconds\n",
      "all:  352\n",
      "all_positives:  66\n",
      "all_negatives:  286\n",
      "true_positives:  62\n",
      "true_negatives:  266\n",
      "false_positives:  20\n",
      "false_negatives:  4\n",
      "RECALL: 0.94\n",
      "SPECIFICITY: 0.93\n",
      "ACCURACY: 0.93\n",
      "PRECISION: 0.76\n",
      "F1 SCORE: 0.84\n",
      "FP RATE / ERROR I: 0.07\n",
      "FN RATE / ERROR II: 0.06\n"
     ]
    }
   ],
   "source": [
    "print(\"________________________________________________________\")\n",
    "print(\"TIMING SUMMARY:\\n\")\n",
    "print(\"loading duration: {0:.1f} seconds\".format(duration_loading))\n",
    "print(\"training duration: {0:.1f} seconds\".format(duration_training))\n",
    "\n",
    "print(\"________________________________________________________\")\n",
    "print(\"MODEL PERFORMANCE ON TEST DATA:\\n\")\n",
    "print(\"predict duration: {0:.1f} seconds\".format(test_data_predictions_time))\n",
    "false_positive_images, false_negative_images = summarize_model_performance(X_test, y_test, test_data_predictions)\n",
    "\n",
    "print(\"________________________________________________________\")\n",
    "print(\"MODEL PERFORMANCE ON TRAIN DATA:\\n\")\n",
    "print(\"predict duration: {0:.1f} seconds\".format(train_data_predictions_time))\n",
    "_, _ = summarize_model_performance(X_train, y_train, train_data_predictions)\n",
    "\n",
    "print(\"________________________________________________________\")\n",
    "print(\"MODEL PERFORMANCE ON VALIDATION DATA:\\n\")\n",
    "print(\"predict duration: {0:.1f} seconds\".format(validation_data_predictions_time))\n",
    "_, _ = summarize_model_performance(X_validate, y_validate, validation_data_predictions)"
   ]
  },
  {
   "cell_type": "markdown",
   "metadata": {},
   "source": [
    "## False Positives (first 20):"
   ]
  },
  {
   "cell_type": "code",
   "execution_count": 12,
   "metadata": {},
   "outputs": [
    {
     "data": {
      "text/html": [
       "<div width='100%'><div style=\"font-size: 10px; display:inline-block; width: 270px; border:1px solid black\">          ./data-images/5833084561001-1110.jpg:          <img src=\"./data-images/5833084561001-1110.jpg\" style=\"display:inline-block;\"> </div><div style=\"font-size: 10px; display:inline-block; width: 270px; border:1px solid black\">          ./data-images/5831139883001-1822.jpg:          <img src=\"./data-images/5831139883001-1822.jpg\" style=\"display:inline-block;\"> </div><div style=\"font-size: 10px; display:inline-block; width: 270px; border:1px solid black\">          ./data-images/5833090951001-695.jpg:          <img src=\"./data-images/5833090951001-695.jpg\" style=\"display:inline-block;\"> </div><div style=\"font-size: 10px; display:inline-block; width: 270px; border:1px solid black\">          ./data-images/5831138798001-266.jpg:          <img src=\"./data-images/5831138798001-266.jpg\" style=\"display:inline-block;\"> </div><div style=\"font-size: 10px; display:inline-block; width: 270px; border:1px solid black\">          ./data-images/5831137888001-531.jpg:          <img src=\"./data-images/5831137888001-531.jpg\" style=\"display:inline-block;\"> </div><div style=\"font-size: 10px; display:inline-block; width: 270px; border:1px solid black\">          ./data-images/5831138798001-42.jpg:          <img src=\"./data-images/5831138798001-42.jpg\" style=\"display:inline-block;\"> </div><div style=\"font-size: 10px; display:inline-block; width: 270px; border:1px solid black\">          ./data-images/5833096735001-762.jpg:          <img src=\"./data-images/5833096735001-762.jpg\" style=\"display:inline-block;\"> </div><div style=\"font-size: 10px; display:inline-block; width: 270px; border:1px solid black\">          ./data-images/5831139883001-314.jpg:          <img src=\"./data-images/5831139883001-314.jpg\" style=\"display:inline-block;\"> </div><div style=\"font-size: 10px; display:inline-block; width: 270px; border:1px solid black\">          ./data-images/5833090951001-1290.jpg:          <img src=\"./data-images/5833090951001-1290.jpg\" style=\"display:inline-block;\"> </div><div style=\"font-size: 10px; display:inline-block; width: 270px; border:1px solid black\">          ./data-images/5831135989001-660.jpg:          <img src=\"./data-images/5831135989001-660.jpg\" style=\"display:inline-block;\"> </div><div style=\"font-size: 10px; display:inline-block; width: 270px; border:1px solid black\">          ./data-images/5833078851001-2231.jpg:          <img src=\"./data-images/5833078851001-2231.jpg\" style=\"display:inline-block;\"> </div><div style=\"font-size: 10px; display:inline-block; width: 270px; border:1px solid black\">          ./data-images/5833096735001-225.jpg:          <img src=\"./data-images/5833096735001-225.jpg\" style=\"display:inline-block;\"> </div><div style=\"font-size: 10px; display:inline-block; width: 270px; border:1px solid black\">          ./data-images/5831137888001-160.jpg:          <img src=\"./data-images/5831137888001-160.jpg\" style=\"display:inline-block;\"> </div><div style=\"font-size: 10px; display:inline-block; width: 270px; border:1px solid black\">          ./data-images/5833084561001-1734.jpg:          <img src=\"./data-images/5833084561001-1734.jpg\" style=\"display:inline-block;\"> </div><div style=\"font-size: 10px; display:inline-block; width: 270px; border:1px solid black\">          ./data-images/5831138807001-1266.jpg:          <img src=\"./data-images/5831138807001-1266.jpg\" style=\"display:inline-block;\"> </div><div style=\"font-size: 10px; display:inline-block; width: 270px; border:1px solid black\">          ./data-images/5831139886001-1272.jpg:          <img src=\"./data-images/5831139886001-1272.jpg\" style=\"display:inline-block;\"> </div><div style=\"font-size: 10px; display:inline-block; width: 270px; border:1px solid black\">          ./data-images/5833078851001-930.jpg:          <img src=\"./data-images/5833078851001-930.jpg\" style=\"display:inline-block;\"> </div><div style=\"font-size: 10px; display:inline-block; width: 270px; border:1px solid black\">          ./data-images/5831135989001-631.jpg:          <img src=\"./data-images/5831135989001-631.jpg\" style=\"display:inline-block;\"> </div><div style=\"font-size: 10px; display:inline-block; width: 270px; border:1px solid black\">          ./data-images/5833096735001-1238.jpg:          <img src=\"./data-images/5833096735001-1238.jpg\" style=\"display:inline-block;\"> </div></div>"
      ],
      "text/plain": [
       "<IPython.core.display.HTML object>"
      ]
     },
     "metadata": {},
     "output_type": "display_data"
    }
   ],
   "source": [
    "display_images(false_positive_images[:20])"
   ]
  },
  {
   "cell_type": "markdown",
   "metadata": {},
   "source": [
    "## False Negatives (first 20):"
   ]
  },
  {
   "cell_type": "code",
   "execution_count": 13,
   "metadata": {
    "scrolled": false
   },
   "outputs": [
    {
     "data": {
      "text/html": [
       "<div width='100%'><div style=\"font-size: 10px; display:inline-block; width: 270px; border:1px solid black\">          ./data-images/5831138807001-79.jpg:          <img src=\"./data-images/5831138807001-79.jpg\" style=\"display:inline-block;\"> </div><div style=\"font-size: 10px; display:inline-block; width: 270px; border:1px solid black\">          ./data-images/5833096735001-1793.jpg:          <img src=\"./data-images/5833096735001-1793.jpg\" style=\"display:inline-block;\"> </div></div>"
      ],
      "text/plain": [
       "<IPython.core.display.HTML object>"
      ]
     },
     "metadata": {},
     "output_type": "display_data"
    }
   ],
   "source": [
    "display_images(false_negative_images[:20])"
   ]
  },
  {
   "cell_type": "code",
   "execution_count": null,
   "metadata": {},
   "outputs": [],
   "source": []
  }
 ],
 "metadata": {
  "kernelspec": {
   "display_name": "Python [default]",
   "language": "python",
   "name": "python3"
  },
  "language_info": {
   "codemirror_mode": {
    "name": "ipython",
    "version": 3
   },
   "file_extension": ".py",
   "mimetype": "text/x-python",
   "name": "python",
   "nbconvert_exporter": "python",
   "pygments_lexer": "ipython3",
   "version": "3.6.5"
  }
 },
 "nbformat": 4,
 "nbformat_minor": 1
}
